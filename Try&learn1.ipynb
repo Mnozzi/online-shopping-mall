{
  "nbformat": 4,
  "nbformat_minor": 0,
  "metadata": {
    "colab": {
      "name": "Try&learn1.ipynb",
      "provenance": [],
      "include_colab_link": true
    },
    "kernelspec": {
      "name": "python3",
      "display_name": "Python 3"
    },
    "accelerator": "GPU"
  },
  "cells": [
    {
      "cell_type": "markdown",
      "metadata": {
        "id": "view-in-github",
        "colab_type": "text"
      },
      "source": [
        "<a href=\"https://colab.research.google.com/github/Mnozzi/online-shopping-mall/blob/main/Try%26learn1.ipynb\" target=\"_parent\"><img src=\"https://colab.research.google.com/assets/colab-badge.svg\" alt=\"Open In Colab\"/></a>"
      ]
    },
    {
      "cell_type": "code",
      "metadata": {
        "id": "M015FAxhbA0j",
        "colab": {
          "base_uri": "https://localhost:8080/"
        },
        "outputId": "258c991b-4f63-42fe-e254-476f1834b4dd"
      },
      "source": [
        "from google.colab import auth\n",
        "auth.authenticate_user()\n",
        "\n",
        "!pip install PyDrive\n",
        "\n",
        "from pydrive.auth import GoogleAuth\n",
        "from pydrive.drive import GoogleDrive\n",
        "from google.colab import auth\n",
        "from oauth2client.client import GoogleCredentials\n",
        "\n",
        "# Authenticate and create the PyDrive client.\n",
        "# This only needs to be done once in a notebook.\n",
        "auth.authenticate_user()\n",
        "gauth = GoogleAuth()\n",
        "gauth.credentials = GoogleCredentials.get_application_default()\n",
        "drive = GoogleDrive(gauth)"
      ],
      "execution_count": 1,
      "outputs": [
        {
          "output_type": "stream",
          "name": "stdout",
          "text": [
            "Requirement already satisfied: PyDrive in /usr/local/lib/python3.10/dist-packages (1.3.1)\n",
            "Requirement already satisfied: google-api-python-client>=1.2 in /usr/local/lib/python3.10/dist-packages (from PyDrive) (2.155.0)\n",
            "Requirement already satisfied: oauth2client>=4.0.0 in /usr/local/lib/python3.10/dist-packages (from PyDrive) (4.1.3)\n",
            "Requirement already satisfied: PyYAML>=3.0 in /usr/local/lib/python3.10/dist-packages (from PyDrive) (6.0.2)\n",
            "Requirement already satisfied: httplib2<1.dev0,>=0.19.0 in /usr/local/lib/python3.10/dist-packages (from google-api-python-client>=1.2->PyDrive) (0.22.0)\n",
            "Requirement already satisfied: google-auth!=2.24.0,!=2.25.0,<3.0.0.dev0,>=1.32.0 in /usr/local/lib/python3.10/dist-packages (from google-api-python-client>=1.2->PyDrive) (2.27.0)\n",
            "Requirement already satisfied: google-auth-httplib2<1.0.0,>=0.2.0 in /usr/local/lib/python3.10/dist-packages (from google-api-python-client>=1.2->PyDrive) (0.2.0)\n",
            "Requirement already satisfied: google-api-core!=2.0.*,!=2.1.*,!=2.2.*,!=2.3.0,<3.0.0.dev0,>=1.31.5 in /usr/local/lib/python3.10/dist-packages (from google-api-python-client>=1.2->PyDrive) (2.19.2)\n",
            "Requirement already satisfied: uritemplate<5,>=3.0.1 in /usr/local/lib/python3.10/dist-packages (from google-api-python-client>=1.2->PyDrive) (4.1.1)\n",
            "Requirement already satisfied: pyasn1>=0.1.7 in /usr/local/lib/python3.10/dist-packages (from oauth2client>=4.0.0->PyDrive) (0.6.1)\n",
            "Requirement already satisfied: pyasn1-modules>=0.0.5 in /usr/local/lib/python3.10/dist-packages (from oauth2client>=4.0.0->PyDrive) (0.4.1)\n",
            "Requirement already satisfied: rsa>=3.1.4 in /usr/local/lib/python3.10/dist-packages (from oauth2client>=4.0.0->PyDrive) (4.9)\n",
            "Requirement already satisfied: six>=1.6.1 in /usr/local/lib/python3.10/dist-packages (from oauth2client>=4.0.0->PyDrive) (1.17.0)\n",
            "Requirement already satisfied: googleapis-common-protos<2.0.dev0,>=1.56.2 in /usr/local/lib/python3.10/dist-packages (from google-api-core!=2.0.*,!=2.1.*,!=2.2.*,!=2.3.0,<3.0.0.dev0,>=1.31.5->google-api-python-client>=1.2->PyDrive) (1.66.0)\n",
            "Requirement already satisfied: protobuf!=3.20.0,!=3.20.1,!=4.21.0,!=4.21.1,!=4.21.2,!=4.21.3,!=4.21.4,!=4.21.5,<6.0.0.dev0,>=3.19.5 in /usr/local/lib/python3.10/dist-packages (from google-api-core!=2.0.*,!=2.1.*,!=2.2.*,!=2.3.0,<3.0.0.dev0,>=1.31.5->google-api-python-client>=1.2->PyDrive) (4.25.5)\n",
            "Requirement already satisfied: proto-plus<2.0.0dev,>=1.22.3 in /usr/local/lib/python3.10/dist-packages (from google-api-core!=2.0.*,!=2.1.*,!=2.2.*,!=2.3.0,<3.0.0.dev0,>=1.31.5->google-api-python-client>=1.2->PyDrive) (1.25.0)\n",
            "Requirement already satisfied: requests<3.0.0.dev0,>=2.18.0 in /usr/local/lib/python3.10/dist-packages (from google-api-core!=2.0.*,!=2.1.*,!=2.2.*,!=2.3.0,<3.0.0.dev0,>=1.31.5->google-api-python-client>=1.2->PyDrive) (2.32.3)\n",
            "Requirement already satisfied: cachetools<6.0,>=2.0.0 in /usr/local/lib/python3.10/dist-packages (from google-auth!=2.24.0,!=2.25.0,<3.0.0.dev0,>=1.32.0->google-api-python-client>=1.2->PyDrive) (5.5.0)\n",
            "Requirement already satisfied: pyparsing!=3.0.0,!=3.0.1,!=3.0.2,!=3.0.3,<4,>=2.4.2 in /usr/local/lib/python3.10/dist-packages (from httplib2<1.dev0,>=0.19.0->google-api-python-client>=1.2->PyDrive) (3.2.0)\n",
            "Requirement already satisfied: charset-normalizer<4,>=2 in /usr/local/lib/python3.10/dist-packages (from requests<3.0.0.dev0,>=2.18.0->google-api-core!=2.0.*,!=2.1.*,!=2.2.*,!=2.3.0,<3.0.0.dev0,>=1.31.5->google-api-python-client>=1.2->PyDrive) (3.4.0)\n",
            "Requirement already satisfied: idna<4,>=2.5 in /usr/local/lib/python3.10/dist-packages (from requests<3.0.0.dev0,>=2.18.0->google-api-core!=2.0.*,!=2.1.*,!=2.2.*,!=2.3.0,<3.0.0.dev0,>=1.31.5->google-api-python-client>=1.2->PyDrive) (3.10)\n",
            "Requirement already satisfied: urllib3<3,>=1.21.1 in /usr/local/lib/python3.10/dist-packages (from requests<3.0.0.dev0,>=2.18.0->google-api-core!=2.0.*,!=2.1.*,!=2.2.*,!=2.3.0,<3.0.0.dev0,>=1.31.5->google-api-python-client>=1.2->PyDrive) (2.2.3)\n",
            "Requirement already satisfied: certifi>=2017.4.17 in /usr/local/lib/python3.10/dist-packages (from requests<3.0.0.dev0,>=2.18.0->google-api-core!=2.0.*,!=2.1.*,!=2.2.*,!=2.3.0,<3.0.0.dev0,>=1.31.5->google-api-python-client>=1.2->PyDrive) (2024.12.14)\n"
          ]
        },
        {
          "output_type": "stream",
          "name": "stderr",
          "text": [
            "WARNING:root:pydrive is deprecated and no longer maintained. We recommend that you migrate your projects to pydrive2, the maintained fork of pydrive\n"
          ]
        }
      ]
    },
    {
      "cell_type": "code",
      "metadata": {
        "id": "5GgfCaT4c84U",
        "colab": {
          "base_uri": "https://localhost:8080/"
        },
        "outputId": "17bb65dd-24fd-4e65-cfeb-060c40b082f9"
      },
      "source": [
        "fileId = drive.CreateFile({'id': '1bjsH1wijxXmXH1quyEpOW1vLgPCZIFZ3'}) #DRIVE_FILE_ID is file id example: 1iytA1n2z4go3uVCwE_vIKouTKyIDjEq\n",
        "print(fileId['title'])  # folder_data.zip\n",
        "fileId.GetContentFile('dataset.zip')  # Save Drive file as a local file\n",
        "\n",
        "!unzip dataset.zip -d ./"
      ],
      "execution_count": 2,
      "outputs": [
        {
          "output_type": "stream",
          "name": "stdout",
          "text": [
            "Dataset.zip\n",
            "Archive:  dataset.zip\n",
            "   creating: ./Dataset/\n",
            "   creating: ./Dataset/Train/\n",
            "   creating: ./Dataset/Train/gl/\n",
            "  inflating: ./Dataset/Train/gl/Im256.jpg  \n",
            "  inflating: ./Dataset/Train/gl/Im257.jpg  \n",
            "  inflating: ./Dataset/Train/gl/Im258.jpg  \n",
            "  inflating: ./Dataset/Train/gl/Im259.jpg  \n",
            "  inflating: ./Dataset/Train/gl/Im260.jpg  \n",
            "  inflating: ./Dataset/Train/gl/Im261.jpg  \n",
            "  inflating: ./Dataset/Train/gl/Im262.jpg  \n",
            "  inflating: ./Dataset/Train/gl/Im263.jpg  \n",
            "  inflating: ./Dataset/Train/gl/Im264.jpg  \n",
            "  inflating: ./Dataset/Train/gl/Im265.jpg  \n",
            "  inflating: ./Dataset/Train/gl/Im266.jpg  \n",
            "  inflating: ./Dataset/Train/gl/Im267.jpg  \n",
            "  inflating: ./Dataset/Train/gl/Im268.jpg  \n",
            "  inflating: ./Dataset/Train/gl/Im269.jpg  \n",
            "  inflating: ./Dataset/Train/gl/Im270.jpg  \n",
            "  inflating: ./Dataset/Train/gl/Im271.jpg  \n",
            "  inflating: ./Dataset/Train/gl/Im272.jpg  \n",
            "  inflating: ./Dataset/Train/gl/Im273.jpg  \n",
            "  inflating: ./Dataset/Train/gl/Im274.jpg  \n",
            "  inflating: ./Dataset/Train/gl/Im275.jpg  \n",
            "  inflating: ./Dataset/Train/gl/Im276.jpg  \n",
            "  inflating: ./Dataset/Train/gl/Im277.jpg  \n",
            "  inflating: ./Dataset/Train/gl/Im278.jpg  \n",
            "  inflating: ./Dataset/Train/gl/Im279.jpg  \n",
            "  inflating: ./Dataset/Train/gl/Im280.jpg  \n",
            "  inflating: ./Dataset/Train/gl/Im281.jpg  \n",
            "  inflating: ./Dataset/Train/gl/Im282.jpg  \n",
            "  inflating: ./Dataset/Train/gl/Im283.jpg  \n",
            "  inflating: ./Dataset/Train/gl/Im284.jpg  \n",
            "  inflating: ./Dataset/Train/gl/Im285.jpg  \n",
            "  inflating: ./Dataset/Train/gl/Im286.jpg  \n",
            "  inflating: ./Dataset/Train/gl/Im287.jpg  \n",
            "  inflating: ./Dataset/Train/gl/Im288.jpg  \n",
            "  inflating: ./Dataset/Train/gl/Im289.jpg  \n",
            "  inflating: ./Dataset/Train/gl/Im290.jpg  \n",
            "  inflating: ./Dataset/Train/gl/Im291.jpg  \n",
            "  inflating: ./Dataset/Train/gl/Im292.jpg  \n",
            "  inflating: ./Dataset/Train/gl/Im293.jpg  \n",
            "  inflating: ./Dataset/Train/gl/Im294.jpg  \n",
            "  inflating: ./Dataset/Train/gl/Im295.jpg  \n",
            "  inflating: ./Dataset/Train/gl/Im296.jpg  \n",
            "  inflating: ./Dataset/Train/gl/Im297.jpg  \n",
            "  inflating: ./Dataset/Train/gl/Im298.jpg  \n",
            "  inflating: ./Dataset/Train/gl/Im299.jpg  \n",
            "  inflating: ./Dataset/Train/gl/Im300.jpg  \n",
            "  inflating: ./Dataset/Train/gl/Im301.jpg  \n",
            "  inflating: ./Dataset/Train/gl/Im302.jpg  \n",
            "  inflating: ./Dataset/Train/gl/Im303.jpg  \n",
            "  inflating: ./Dataset/Train/gl/Im304.jpg  \n",
            "  inflating: ./Dataset/Train/gl/Im305.jpg  \n",
            "  inflating: ./Dataset/Train/gl/Im306.jpg  \n",
            "  inflating: ./Dataset/Train/gl/Im307.jpg  \n",
            "  inflating: ./Dataset/Train/gl/Im308.jpg  \n",
            "  inflating: ./Dataset/Train/gl/Im309.jpg  \n",
            "  inflating: ./Dataset/Train/gl/Im310.jpg  \n",
            "  inflating: ./Dataset/Train/gl/Im311.jpg  \n",
            "  inflating: ./Dataset/Train/gl/Im312.jpg  \n",
            "  inflating: ./Dataset/Train/gl/Im313.jpg  \n",
            "  inflating: ./Dataset/Train/gl/Im314.jpg  \n",
            "  inflating: ./Dataset/Train/gl/Im315.jpg  \n",
            "  inflating: ./Dataset/Train/gl/Im316.jpg  \n",
            "  inflating: ./Dataset/Train/gl/Im317.jpg  \n",
            "  inflating: ./Dataset/Train/gl/Im318.jpg  \n",
            "  inflating: ./Dataset/Train/gl/Im319.jpg  \n",
            "  inflating: ./Dataset/Train/gl/Im320.jpg  \n",
            "  inflating: ./Dataset/Train/gl/Im321.jpg  \n",
            "  inflating: ./Dataset/Train/gl/Im322.jpg  \n",
            "  inflating: ./Dataset/Train/gl/Im323.jpg  \n",
            "  inflating: ./Dataset/Train/gl/Im324.jpg  \n",
            "  inflating: ./Dataset/Train/gl/Im325.jpg  \n",
            "  inflating: ./Dataset/Train/gl/Im326.jpg  \n",
            "  inflating: ./Dataset/Train/gl/Im327.jpg  \n",
            "  inflating: ./Dataset/Train/gl/Im328.jpg  \n",
            "  inflating: ./Dataset/Train/gl/Im329.jpg  \n",
            "  inflating: ./Dataset/Train/gl/Im330.jpg  \n",
            "  inflating: ./Dataset/Train/gl/Im331.jpg  \n",
            "  inflating: ./Dataset/Train/gl/Im332.jpg  \n",
            "  inflating: ./Dataset/Train/gl/Im333.jpg  \n",
            "  inflating: ./Dataset/Train/gl/Im334.jpg  \n",
            "  inflating: ./Dataset/Train/gl/Im335.jpg  \n",
            "  inflating: ./Dataset/Train/gl/Im336.jpg  \n",
            "  inflating: ./Dataset/Train/gl/Im337.jpg  \n",
            "  inflating: ./Dataset/Train/gl/Im338.jpg  \n",
            "  inflating: ./Dataset/Train/gl/Im339.jpg  \n",
            "  inflating: ./Dataset/Train/gl/Im340.jpg  \n",
            "  inflating: ./Dataset/Train/gl/Im341.jpg  \n",
            "  inflating: ./Dataset/Train/gl/Im342.jpg  \n",
            "  inflating: ./Dataset/Train/gl/Im343.jpg  \n",
            "  inflating: ./Dataset/Train/gl/Im344.jpg  \n",
            "  inflating: ./Dataset/Train/gl/Im345.jpg  \n",
            "  inflating: ./Dataset/Train/gl/Im346.jpg  \n",
            "  inflating: ./Dataset/Train/gl/Im347.jpg  \n",
            "  inflating: ./Dataset/Train/gl/Im348.jpg  \n",
            "  inflating: ./Dataset/Train/gl/Im349.jpg  \n",
            "  inflating: ./Dataset/Train/gl/Im350.jpg  \n",
            "  inflating: ./Dataset/Train/gl/Im351.jpg  \n",
            "  inflating: ./Dataset/Train/gl/Im352.jpg  \n",
            "  inflating: ./Dataset/Train/gl/Im353.jpg  \n",
            "  inflating: ./Dataset/Train/gl/Im354.jpg  \n",
            "  inflating: ./Dataset/Train/gl/Im355.jpg  \n",
            "  inflating: ./Dataset/Train/gl/Im356.jpg  \n",
            "  inflating: ./Dataset/Train/gl/Im357.jpg  \n",
            "  inflating: ./Dataset/Train/gl/Im358.jpg  \n",
            "  inflating: ./Dataset/Train/gl/Im359.jpg  \n",
            "  inflating: ./Dataset/Train/gl/Im360.jpg  \n",
            "  inflating: ./Dataset/Train/gl/Im361.jpg  \n",
            "  inflating: ./Dataset/Train/gl/Im362.jpg  \n",
            "  inflating: ./Dataset/Train/gl/Im363.jpg  \n",
            "  inflating: ./Dataset/Train/gl/Im364.jpg  \n",
            "  inflating: ./Dataset/Train/gl/Im365.jpg  \n",
            "  inflating: ./Dataset/Train/gl/Im366.jpg  \n",
            "  inflating: ./Dataset/Train/gl/Im367.jpg  \n",
            "  inflating: ./Dataset/Train/gl/Im368.jpg  \n",
            "  inflating: ./Dataset/Train/gl/Im369.jpg  \n",
            "  inflating: ./Dataset/Train/gl/Im370.jpg  \n",
            "  inflating: ./Dataset/Train/gl/Im371.jpg  \n",
            "  inflating: ./Dataset/Train/gl/Im372.jpg  \n",
            "  inflating: ./Dataset/Train/gl/Im373.jpg  \n",
            "  inflating: ./Dataset/Train/gl/Im374.jpg  \n",
            "  inflating: ./Dataset/Train/gl/Im375.jpg  \n",
            "  inflating: ./Dataset/Train/gl/Im376.jpg  \n",
            "  inflating: ./Dataset/Train/gl/Im377.jpg  \n",
            "  inflating: ./Dataset/Train/gl/Im378.jpg  \n",
            "  inflating: ./Dataset/Train/gl/Im379.jpg  \n",
            "  inflating: ./Dataset/Train/gl/Im380.jpg  \n",
            "  inflating: ./Dataset/Train/gl/Im381.jpg  \n",
            "  inflating: ./Dataset/Train/gl/Im382.jpg  \n",
            "  inflating: ./Dataset/Train/gl/Im383.jpg  \n",
            "  inflating: ./Dataset/Train/gl/Im384.jpg  \n",
            "  inflating: ./Dataset/Train/gl/Im385.jpg  \n",
            "  inflating: ./Dataset/Train/gl/Im386.jpg  \n",
            "  inflating: ./Dataset/Train/gl/Im387.jpg  \n",
            "  inflating: ./Dataset/Train/gl/Im388.jpg  \n",
            "  inflating: ./Dataset/Train/gl/Im389.jpg  \n",
            "  inflating: ./Dataset/Train/gl/Im390.jpg  \n",
            "  inflating: ./Dataset/Train/gl/Im391.jpg  \n",
            "  inflating: ./Dataset/Train/gl/Im392.jpg  \n",
            "  inflating: ./Dataset/Train/gl/Im393.jpg  \n",
            "  inflating: ./Dataset/Train/gl/Im394.jpg  \n",
            "  inflating: ./Dataset/Train/gl/Im395.jpg  \n",
            "   creating: ./Dataset/Train/normal/\n",
            "  inflating: ./Dataset/Train/normal/Im001.jpg  \n",
            "  inflating: ./Dataset/Train/normal/Im002.jpg  \n",
            "  inflating: ./Dataset/Train/normal/Im003.jpg  \n",
            "  inflating: ./Dataset/Train/normal/Im004.jpg  \n",
            "  inflating: ./Dataset/Train/normal/Im005.jpg  \n",
            "  inflating: ./Dataset/Train/normal/Im006.jpg  \n",
            "  inflating: ./Dataset/Train/normal/Im007.jpg  \n",
            "  inflating: ./Dataset/Train/normal/Im008.jpg  \n",
            "  inflating: ./Dataset/Train/normal/Im009.jpg  \n",
            "  inflating: ./Dataset/Train/normal/Im010.jpg  \n",
            "  inflating: ./Dataset/Train/normal/Im011.jpg  \n",
            "  inflating: ./Dataset/Train/normal/Im012.jpg  \n",
            "  inflating: ./Dataset/Train/normal/Im013.jpg  \n",
            "  inflating: ./Dataset/Train/normal/Im014.jpg  \n",
            "  inflating: ./Dataset/Train/normal/Im015.jpg  \n",
            "  inflating: ./Dataset/Train/normal/Im016.jpg  \n",
            "  inflating: ./Dataset/Train/normal/Im017.jpg  \n",
            "  inflating: ./Dataset/Train/normal/Im018.jpg  \n",
            "  inflating: ./Dataset/Train/normal/Im019.jpg  \n",
            "  inflating: ./Dataset/Train/normal/Im020.jpg  \n",
            "  inflating: ./Dataset/Train/normal/Im021.jpg  \n",
            "  inflating: ./Dataset/Train/normal/Im022.jpg  \n",
            "  inflating: ./Dataset/Train/normal/Im023.jpg  \n",
            "  inflating: ./Dataset/Train/normal/Im024.jpg  \n",
            "  inflating: ./Dataset/Train/normal/Im025.jpg  \n",
            "  inflating: ./Dataset/Train/normal/Im026.jpg  \n",
            "  inflating: ./Dataset/Train/normal/Im027.jpg  \n",
            "  inflating: ./Dataset/Train/normal/Im028.jpg  \n",
            "  inflating: ./Dataset/Train/normal/Im029.jpg  \n",
            "  inflating: ./Dataset/Train/normal/Im030.jpg  \n",
            "  inflating: ./Dataset/Train/normal/Im031.jpg  \n",
            "  inflating: ./Dataset/Train/normal/Im032.jpg  \n",
            "  inflating: ./Dataset/Train/normal/Im033.jpg  \n",
            "  inflating: ./Dataset/Train/normal/Im034.jpg  \n",
            "  inflating: ./Dataset/Train/normal/Im035.jpg  \n",
            "  inflating: ./Dataset/Train/normal/Im036.jpg  \n",
            "  inflating: ./Dataset/Train/normal/Im037.jpg  \n",
            "  inflating: ./Dataset/Train/normal/Im038.jpg  \n",
            "  inflating: ./Dataset/Train/normal/Im039.jpg  \n",
            "  inflating: ./Dataset/Train/normal/Im040.jpg  \n",
            "  inflating: ./Dataset/Train/normal/Im041.jpg  \n",
            "  inflating: ./Dataset/Train/normal/Im042.jpg  \n",
            "  inflating: ./Dataset/Train/normal/Im043.jpg  \n",
            "  inflating: ./Dataset/Train/normal/Im044.jpg  \n",
            "  inflating: ./Dataset/Train/normal/Im045.jpg  \n",
            "  inflating: ./Dataset/Train/normal/Im046.jpg  \n",
            "  inflating: ./Dataset/Train/normal/Im047.jpg  \n",
            "  inflating: ./Dataset/Train/normal/Im048.jpg  \n",
            "  inflating: ./Dataset/Train/normal/Im049.jpg  \n",
            "  inflating: ./Dataset/Train/normal/Im050.jpg  \n",
            "  inflating: ./Dataset/Train/normal/Im051.jpg  \n",
            "  inflating: ./Dataset/Train/normal/Im052.jpg  \n",
            "  inflating: ./Dataset/Train/normal/Im053.jpg  \n",
            "  inflating: ./Dataset/Train/normal/Im054.jpg  \n",
            "  inflating: ./Dataset/Train/normal/Im055.jpg  \n",
            "  inflating: ./Dataset/Train/normal/Im056.jpg  \n",
            "  inflating: ./Dataset/Train/normal/Im057.jpg  \n",
            "  inflating: ./Dataset/Train/normal/Im058.jpg  \n",
            "  inflating: ./Dataset/Train/normal/Im059.jpg  \n",
            "  inflating: ./Dataset/Train/normal/Im060.jpg  \n",
            "  inflating: ./Dataset/Train/normal/Im061.jpg  \n",
            "  inflating: ./Dataset/Train/normal/Im062.jpg  \n",
            "  inflating: ./Dataset/Train/normal/Im063.jpg  \n",
            "  inflating: ./Dataset/Train/normal/Im064.jpg  \n",
            "  inflating: ./Dataset/Train/normal/Im065.jpg  \n",
            "  inflating: ./Dataset/Train/normal/Im066.jpg  \n",
            "  inflating: ./Dataset/Train/normal/Im067.jpg  \n",
            "  inflating: ./Dataset/Train/normal/Im068.jpg  \n",
            "  inflating: ./Dataset/Train/normal/Im069.jpg  \n",
            "  inflating: ./Dataset/Train/normal/Im070.jpg  \n",
            "  inflating: ./Dataset/Train/normal/Im071.jpg  \n",
            "  inflating: ./Dataset/Train/normal/Im072.jpg  \n",
            "  inflating: ./Dataset/Train/normal/Im073.jpg  \n",
            "  inflating: ./Dataset/Train/normal/Im074.jpg  \n",
            "  inflating: ./Dataset/Train/normal/Im075.jpg  \n",
            "  inflating: ./Dataset/Train/normal/Im076.jpg  \n",
            "  inflating: ./Dataset/Train/normal/Im077.jpg  \n",
            "  inflating: ./Dataset/Train/normal/Im078.jpg  \n",
            "  inflating: ./Dataset/Train/normal/Im079.jpg  \n",
            "  inflating: ./Dataset/Train/normal/Im080.jpg  \n",
            "  inflating: ./Dataset/Train/normal/Im081.jpg  \n",
            "  inflating: ./Dataset/Train/normal/Im082.jpg  \n",
            "  inflating: ./Dataset/Train/normal/Im083.jpg  \n",
            "  inflating: ./Dataset/Train/normal/Im084.jpg  \n",
            "  inflating: ./Dataset/Train/normal/Im085.jpg  \n",
            "  inflating: ./Dataset/Train/normal/Im086.jpg  \n",
            "  inflating: ./Dataset/Train/normal/Im087.jpg  \n",
            "  inflating: ./Dataset/Train/normal/Im088.jpg  \n",
            "  inflating: ./Dataset/Train/normal/Im089.jpg  \n",
            "  inflating: ./Dataset/Train/normal/Im090.jpg  \n",
            "  inflating: ./Dataset/Train/normal/Im091.jpg  \n",
            "  inflating: ./Dataset/Train/normal/Im092.jpg  \n",
            "  inflating: ./Dataset/Train/normal/Im093.jpg  \n",
            "  inflating: ./Dataset/Train/normal/Im094.jpg  \n",
            "  inflating: ./Dataset/Train/normal/Im095.jpg  \n",
            "  inflating: ./Dataset/Train/normal/Im096.jpg  \n",
            "  inflating: ./Dataset/Train/normal/Im097.jpg  \n",
            "  inflating: ./Dataset/Train/normal/Im098.jpg  \n",
            "  inflating: ./Dataset/Train/normal/Im099.jpg  \n",
            "  inflating: ./Dataset/Train/normal/Im100.jpg  \n",
            "  inflating: ./Dataset/Train/normal/Im101.jpg  \n",
            "  inflating: ./Dataset/Train/normal/Im102.jpg  \n",
            "  inflating: ./Dataset/Train/normal/Im103.jpg  \n",
            "  inflating: ./Dataset/Train/normal/Im104.jpg  \n",
            "  inflating: ./Dataset/Train/normal/Im105.jpg  \n",
            "  inflating: ./Dataset/Train/normal/Im106.jpg  \n",
            "  inflating: ./Dataset/Train/normal/Im107.jpg  \n",
            "  inflating: ./Dataset/Train/normal/Im108.jpg  \n",
            "  inflating: ./Dataset/Train/normal/Im109.jpg  \n",
            "  inflating: ./Dataset/Train/normal/Im110.jpg  \n",
            "  inflating: ./Dataset/Train/normal/Im111.jpg  \n",
            "  inflating: ./Dataset/Train/normal/Im112.jpg  \n",
            "  inflating: ./Dataset/Train/normal/Im113.jpg  \n",
            "  inflating: ./Dataset/Train/normal/Im114.jpg  \n",
            "  inflating: ./Dataset/Train/normal/Im115.jpg  \n",
            "  inflating: ./Dataset/Train/normal/Im116.jpg  \n",
            "  inflating: ./Dataset/Train/normal/Im117.jpg  \n",
            "  inflating: ./Dataset/Train/normal/Im118.jpg  \n",
            "  inflating: ./Dataset/Train/normal/Im119.jpg  \n",
            "  inflating: ./Dataset/Train/normal/Im120.jpg  \n",
            "  inflating: ./Dataset/Train/normal/Im121.jpg  \n",
            "  inflating: ./Dataset/Train/normal/Im122.jpg  \n",
            "  inflating: ./Dataset/Train/normal/Im123.jpg  \n",
            "  inflating: ./Dataset/Train/normal/Im124.jpg  \n",
            "  inflating: ./Dataset/Train/normal/Im125.jpg  \n",
            "  inflating: ./Dataset/Train/normal/Im126.jpg  \n",
            "  inflating: ./Dataset/Train/normal/Im127.jpg  \n",
            "  inflating: ./Dataset/Train/normal/Im128.jpg  \n",
            "  inflating: ./Dataset/Train/normal/Im129.jpg  \n",
            "  inflating: ./Dataset/Train/normal/Im130.jpg  \n",
            "  inflating: ./Dataset/Train/normal/Im131.jpg  \n",
            "  inflating: ./Dataset/Train/normal/Im132.jpg  \n",
            "  inflating: ./Dataset/Train/normal/Im133.jpg  \n",
            "  inflating: ./Dataset/Train/normal/Im134.jpg  \n",
            "  inflating: ./Dataset/Train/normal/Im135.jpg  \n",
            "  inflating: ./Dataset/Train/normal/Im136.jpg  \n",
            "  inflating: ./Dataset/Train/normal/Im137.jpg  \n",
            "  inflating: ./Dataset/Train/normal/Im138.jpg  \n",
            "  inflating: ./Dataset/Train/normal/Im139.jpg  \n",
            "  inflating: ./Dataset/Train/normal/Im140.jpg  \n",
            "   creating: ./Dataset/Validation/\n",
            "   creating: ./Dataset/Validation/gl/\n",
            "  inflating: ./Dataset/Validation/gl/Im396.jpg  \n",
            "  inflating: ./Dataset/Validation/gl/Im397.jpg  \n",
            "  inflating: ./Dataset/Validation/gl/Im398.jpg  \n",
            "  inflating: ./Dataset/Validation/gl/Im399.jpg  \n",
            "  inflating: ./Dataset/Validation/gl/Im400.jpg  \n",
            "  inflating: ./Dataset/Validation/gl/Im401.jpg  \n",
            "  inflating: ./Dataset/Validation/gl/Im402.jpg  \n",
            "  inflating: ./Dataset/Validation/gl/Im403.jpg  \n",
            "  inflating: ./Dataset/Validation/gl/Im404.jpg  \n",
            "  inflating: ./Dataset/Validation/gl/Im405.jpg  \n",
            "  inflating: ./Dataset/Validation/gl/Im406.jpg  \n",
            "  inflating: ./Dataset/Validation/gl/Im407.jpg  \n",
            "  inflating: ./Dataset/Validation/gl/Im408.jpg  \n",
            "  inflating: ./Dataset/Validation/gl/Im409.jpg  \n",
            "  inflating: ./Dataset/Validation/gl/Im410.jpg  \n",
            "  inflating: ./Dataset/Validation/gl/Im411.jpg  \n",
            "  inflating: ./Dataset/Validation/gl/Im412.jpg  \n",
            "  inflating: ./Dataset/Validation/gl/Im413.jpg  \n",
            "  inflating: ./Dataset/Validation/gl/Im414.jpg  \n",
            "  inflating: ./Dataset/Validation/gl/Im415.jpg  \n",
            "  inflating: ./Dataset/Validation/gl/Im416.jpg  \n",
            "  inflating: ./Dataset/Validation/gl/Im417.jpg  \n",
            "  inflating: ./Dataset/Validation/gl/Im418.jpg  \n",
            "  inflating: ./Dataset/Validation/gl/Im419.jpg  \n",
            "  inflating: ./Dataset/Validation/gl/Im420.jpg  \n",
            "  inflating: ./Dataset/Validation/gl/Im421.jpg  \n",
            "  inflating: ./Dataset/Validation/gl/Im422.jpg  \n",
            "  inflating: ./Dataset/Validation/gl/Im423.jpg  \n",
            "  inflating: ./Dataset/Validation/gl/Im424.jpg  \n",
            "  inflating: ./Dataset/Validation/gl/Im425.jpg  \n",
            "  inflating: ./Dataset/Validation/gl/Im426.jpg  \n",
            "  inflating: ./Dataset/Validation/gl/Im427.jpg  \n",
            "  inflating: ./Dataset/Validation/gl/Im428.jpg  \n",
            "  inflating: ./Dataset/Validation/gl/Im429.jpg  \n",
            "  inflating: ./Dataset/Validation/gl/Im430.jpg  \n",
            "  inflating: ./Dataset/Validation/gl/Im431.jpg  \n",
            "  inflating: ./Dataset/Validation/gl/Im432.jpg  \n",
            "  inflating: ./Dataset/Validation/gl/Im433.jpg  \n",
            "  inflating: ./Dataset/Validation/gl/Im434.jpg  \n",
            "  inflating: ./Dataset/Validation/gl/Im435.jpg  \n",
            "   creating: ./Dataset/Validation/normal/\n",
            "  inflating: ./Dataset/Validation/normal/Im141.jpg  \n",
            "  inflating: ./Dataset/Validation/normal/Im142.jpg  \n",
            "  inflating: ./Dataset/Validation/normal/Im143.jpg  \n",
            "  inflating: ./Dataset/Validation/normal/Im144.jpg  \n",
            "  inflating: ./Dataset/Validation/normal/Im145.jpg  \n",
            "  inflating: ./Dataset/Validation/normal/Im146.jpg  \n",
            "  inflating: ./Dataset/Validation/normal/Im147.jpg  \n",
            "  inflating: ./Dataset/Validation/normal/Im148.jpg  \n",
            "  inflating: ./Dataset/Validation/normal/Im149.jpg  \n",
            "  inflating: ./Dataset/Validation/normal/Im150.jpg  \n",
            "  inflating: ./Dataset/Validation/normal/Im151.jpg  \n",
            "  inflating: ./Dataset/Validation/normal/Im152.jpg  \n",
            "  inflating: ./Dataset/Validation/normal/Im153.jpg  \n",
            "  inflating: ./Dataset/Validation/normal/Im154.jpg  \n",
            "  inflating: ./Dataset/Validation/normal/Im155.jpg  \n",
            "  inflating: ./Dataset/Validation/normal/Im156.jpg  \n",
            "  inflating: ./Dataset/Validation/normal/Im157.jpg  \n",
            "  inflating: ./Dataset/Validation/normal/Im158.jpg  \n",
            "  inflating: ./Dataset/Validation/normal/Im159.jpg  \n",
            "  inflating: ./Dataset/Validation/normal/Im160.jpg  \n",
            "  inflating: ./Dataset/Validation/normal/Im161.jpg  \n",
            "  inflating: ./Dataset/Validation/normal/Im162.jpg  \n",
            "  inflating: ./Dataset/Validation/normal/Im163.jpg  \n",
            "  inflating: ./Dataset/Validation/normal/Im164.jpg  \n",
            "  inflating: ./Dataset/Validation/normal/Im165.jpg  \n",
            "  inflating: ./Dataset/Validation/normal/Im166.jpg  \n",
            "  inflating: ./Dataset/Validation/normal/Im167.jpg  \n",
            "  inflating: ./Dataset/Validation/normal/Im168.jpg  \n",
            "  inflating: ./Dataset/Validation/normal/Im169.jpg  \n",
            "  inflating: ./Dataset/Validation/normal/Im170.jpg  \n",
            "  inflating: ./Dataset/Validation/normal/Im171.jpg  \n",
            "  inflating: ./Dataset/Validation/normal/Im172.jpg  \n",
            "  inflating: ./Dataset/Validation/normal/Im173.jpg  \n",
            "  inflating: ./Dataset/Validation/normal/Im174.jpg  \n",
            "  inflating: ./Dataset/Validation/normal/Im175.jpg  \n",
            "  inflating: ./Dataset/Validation/normal/Im176.jpg  \n",
            "  inflating: ./Dataset/Validation/normal/Im177.jpg  \n",
            "  inflating: ./Dataset/Validation/normal/Im178.jpg  \n",
            "  inflating: ./Dataset/Validation/normal/Im179.jpg  \n",
            "  inflating: ./Dataset/Validation/normal/Im180.jpg  \n",
            "   creating: ./Dataset/Test/\n",
            "   creating: ./Dataset/Test/gl/\n",
            "  inflating: ./Dataset/Test/gl/Im436.jpg  \n",
            "  inflating: ./Dataset/Test/gl/Im437.jpg  \n",
            "  inflating: ./Dataset/Test/gl/Im438.jpg  \n",
            "  inflating: ./Dataset/Test/gl/Im439.jpg  \n",
            "  inflating: ./Dataset/Test/gl/Im440.jpg  \n",
            "  inflating: ./Dataset/Test/gl/Im441.jpg  \n",
            "  inflating: ./Dataset/Test/gl/Im442.jpg  \n",
            "  inflating: ./Dataset/Test/gl/Im443.jpg  \n",
            "  inflating: ./Dataset/Test/gl/Im444.jpg  \n",
            "  inflating: ./Dataset/Test/gl/Im445.jpg  \n",
            "  inflating: ./Dataset/Test/gl/Im446.jpg  \n",
            "  inflating: ./Dataset/Test/gl/Im447.jpg  \n",
            "  inflating: ./Dataset/Test/gl/Im448.jpg  \n",
            "  inflating: ./Dataset/Test/gl/Im449.jpg  \n",
            "  inflating: ./Dataset/Test/gl/Im450.jpg  \n",
            "  inflating: ./Dataset/Test/gl/Im451.jpg  \n",
            "  inflating: ./Dataset/Test/gl/Im452.jpg  \n",
            "  inflating: ./Dataset/Test/gl/Im453.jpg  \n",
            "  inflating: ./Dataset/Test/gl/Im454.jpg  \n",
            "  inflating: ./Dataset/Test/gl/Im455.jpg  \n",
            "   creating: ./Dataset/Test/normal/\n",
            "  inflating: ./Dataset/Test/normal/Im181.jpg  \n",
            "  inflating: ./Dataset/Test/normal/Im182.jpg  \n",
            "  inflating: ./Dataset/Test/normal/Im183.jpg  \n",
            "  inflating: ./Dataset/Test/normal/Im184.jpg  \n",
            "  inflating: ./Dataset/Test/normal/Im185.jpg  \n",
            "  inflating: ./Dataset/Test/normal/Im186.jpg  \n",
            "  inflating: ./Dataset/Test/normal/Im187.jpg  \n",
            "  inflating: ./Dataset/Test/normal/Im188.jpg  \n",
            "  inflating: ./Dataset/Test/normal/Im189.jpg  \n",
            "  inflating: ./Dataset/Test/normal/Im190.jpg  \n",
            "  inflating: ./Dataset/Test/normal/Im191.jpg  \n",
            "  inflating: ./Dataset/Test/normal/Im192.jpg  \n",
            "  inflating: ./Dataset/Test/normal/Im193.jpg  \n",
            "  inflating: ./Dataset/Test/normal/Im194.jpg  \n",
            "  inflating: ./Dataset/Test/normal/Im195.jpg  \n",
            "  inflating: ./Dataset/Test/normal/Im196.jpg  \n",
            "  inflating: ./Dataset/Test/normal/Im197.jpg  \n",
            "  inflating: ./Dataset/Test/normal/Im198.jpg  \n",
            "  inflating: ./Dataset/Test/normal/Im199.jpg  \n",
            "  inflating: ./Dataset/Test/normal/Im200.jpg  \n"
          ]
        }
      ]
    },
    {
      "cell_type": "code",
      "metadata": {
        "id": "s8tgguBndH9n"
      },
      "source": [
        "import tensorflow as tf\n"
      ],
      "execution_count": 5,
      "outputs": []
    },
    {
      "cell_type": "code",
      "metadata": {
        "id": "ngW2LByofihM"
      },
      "source": [
        "from tensorflow.keras.preprocessing.image import ImageDataGenerator\n",
        "from keras.models import Model\n",
        "from keras.layers import Input, Conv2D, MaxPooling2D, UpSampling2D, Concatenate, GlobalAveragePooling2D\n",
        "from keras.layers import BatchNormalization, Activation, Dropout, Flatten, Dense\n",
        "from keras import backend as K\n",
        "from keras import optimizers\n",
        "from keras.callbacks import ModelCheckpoint, ReduceLROnPlateau\n",
        "from imgaug import augmenters as iaa\n",
        "from keras.utils import plot_model\n",
        "import numpy as np\n",
        "\n",
        "# channels last, no. of channels = 3\n",
        "img_width, img_height = 256, 256\n",
        "input_shape = (img_width, img_height, 3)\n",
        "\n",
        "train_data_dir = \"Dataset/Train\"\n",
        "validation_data_dir = \"Dataset/Validation\"\n",
        "test_data_dir = \"Dataset/Test\"\n",
        "nb_train_samples = 280\n",
        "nb_validation_samples = 80\n",
        "n_test_samples = 40\n",
        "epochs = 100"
      ],
      "execution_count": 6,
      "outputs": []
    },
    {
      "cell_type": "code",
      "metadata": {
        "id": "h8yzVr2nftCs"
      },
      "source": [
        "def get_steps(n_samples, batch_size):\n",
        "    if n_samples <= batch_size:\n",
        "        return n_samples\n",
        "    elif np.remainder(n_samples, batch_size) == 0:\n",
        "        return n_samples//batch_size\n",
        "    else:\n",
        "        return n_samples//batch_size + 1"
      ],
      "execution_count": 7,
      "outputs": []
    },
    {
      "cell_type": "markdown",
      "metadata": {
        "id": "9_QdKnXJf2Jz"
      },
      "source": [
        "#MODEL"
      ]
    },
    {
      "cell_type": "code",
      "metadata": {
        "id": "5FL_HoPzfyhO"
      },
      "source": [
        "def block_encoder(layer, filters, kernel_size, activation):\n",
        "  block = Conv2D(filters, kernel_size, padding='same', data_format=\"channels_last\", activation = activation)(layer)\n",
        "  block = Conv2D(filters * 2, kernel_size, padding='same', data_format=\"channels_last\", activation = activation)(block)\n",
        "  block = MaxPooling2D(pool_size = (2, 2))(block)\n",
        "  block = BatchNormalization()(block)\n",
        "\n",
        "  print(block.shape)\n",
        "  return block"
      ],
      "execution_count": 8,
      "outputs": []
    },
    {
      "cell_type": "code",
      "metadata": {
        "id": "XGXbqaZQgFhK"
      },
      "source": [
        "def block_decoder(layer, filters, kernel_size, activation, upSample = True):\n",
        "  block = Conv2D(filters * 2, kernel_size, padding='same', data_format=\"channels_last\", activation = activation)(layer)\n",
        "  block = Conv2D(filters, kernel_size, padding='same', data_format=\"channels_last\", activation = activation)(block)\n",
        "  if upSample:\n",
        "    block = UpSampling2D(size=(2,2))(layer)\n",
        "  block = BatchNormalization()(block)\n",
        "\n",
        "  print(block.shape)\n",
        "  return block"
      ],
      "execution_count": 9,
      "outputs": []
    },
    {
      "cell_type": "code",
      "metadata": {
        "id": "Js27tBgVgKxY",
        "colab": {
          "base_uri": "https://localhost:8080/"
        },
        "outputId": "a95c8260-be96-46d0-f4b5-bcb264a518ab"
      },
      "source": [
        "inputLayer = Input(shape=input_shape)\n",
        "\n",
        "en_block1 = block_encoder(inputLayer, 2, (2, 2), \"relu\") # output_shape = 128, 128, 4\n",
        "en_block2 = block_encoder(en_block1, 4, (2, 2), \"relu\") # output_shape = 64, 64, 8\n",
        "de_block3 = block_decoder(en_block2, 8, (2, 2), \"relu\", upSample = False) # output_shape = 64, 64, 8\n",
        "temp = Concatenate()([de_block3, en_block2])\n",
        "de_block2 = block_decoder(temp, 4, (2, 2), \"relu\")\n",
        "de_block1 = block_decoder(Concatenate()([de_block2, en_block1]), 2, (2, 2), \"relu\")\n",
        "\n",
        "output = Conv2D(2, (1, 1), activation = \"softmax\")(de_block1)\n",
        "model = Model(inputs=[inputLayer], outputs=[output])\n",
        "model.compile(loss=\"categorical_crossentropy\",\n",
        "              optimizer=optimizers.Adam(learning_rate=0.0001, beta_1=0.9, beta_2=0.999, epsilon=None, decay=0.0, amsgrad=False),\n",
        "              metrics=[\"accuracy\"])"
      ],
      "execution_count": 11,
      "outputs": [
        {
          "output_type": "stream",
          "name": "stdout",
          "text": [
            "(None, 128, 128, 4)\n",
            "(None, 64, 64, 8)\n",
            "(None, 64, 64, 8)\n",
            "(None, 128, 128, 16)\n",
            "(None, 256, 256, 20)\n"
          ]
        }
      ]
    },
    {
      "cell_type": "code",
      "metadata": {
        "id": "usZAey16i2hZ",
        "colab": {
          "base_uri": "https://localhost:8080/",
          "height": 962
        },
        "outputId": "3f48844b-9a44-450a-b1d1-60c3e50eb604"
      },
      "source": [
        "model.summary()"
      ],
      "execution_count": 12,
      "outputs": [
        {
          "output_type": "display_data",
          "data": {
            "text/plain": [
              "\u001b[1mModel: \"functional_1\"\u001b[0m\n"
            ],
            "text/html": [
              "<pre style=\"white-space:pre;overflow-x:auto;line-height:normal;font-family:Menlo,'DejaVu Sans Mono',consolas,'Courier New',monospace\"><span style=\"font-weight: bold\">Model: \"functional_1\"</span>\n",
              "</pre>\n"
            ]
          },
          "metadata": {}
        },
        {
          "output_type": "display_data",
          "data": {
            "text/plain": [
              "┏━━━━━━━━━━━━━━━━━━━━━━━━━━━┳━━━━━━━━━━━━━━━━━━━━━━━━┳━━━━━━━━━━━━━━━━┳━━━━━━━━━━━━━━━━━━━━━━━━┓\n",
              "┃\u001b[1m \u001b[0m\u001b[1mLayer (type)             \u001b[0m\u001b[1m \u001b[0m┃\u001b[1m \u001b[0m\u001b[1mOutput Shape          \u001b[0m\u001b[1m \u001b[0m┃\u001b[1m \u001b[0m\u001b[1m       Param #\u001b[0m\u001b[1m \u001b[0m┃\u001b[1m \u001b[0m\u001b[1mConnected to          \u001b[0m\u001b[1m \u001b[0m┃\n",
              "┡━━━━━━━━━━━━━━━━━━━━━━━━━━━╇━━━━━━━━━━━━━━━━━━━━━━━━╇━━━━━━━━━━━━━━━━╇━━━━━━━━━━━━━━━━━━━━━━━━┩\n",
              "│ input_layer_1             │ (\u001b[38;5;45mNone\u001b[0m, \u001b[38;5;34m256\u001b[0m, \u001b[38;5;34m256\u001b[0m, \u001b[38;5;34m3\u001b[0m)    │              \u001b[38;5;34m0\u001b[0m │ -                      │\n",
              "│ (\u001b[38;5;33mInputLayer\u001b[0m)              │                        │                │                        │\n",
              "├───────────────────────────┼────────────────────────┼────────────────┼────────────────────────┤\n",
              "│ conv2d_11 (\u001b[38;5;33mConv2D\u001b[0m)        │ (\u001b[38;5;45mNone\u001b[0m, \u001b[38;5;34m256\u001b[0m, \u001b[38;5;34m256\u001b[0m, \u001b[38;5;34m2\u001b[0m)    │             \u001b[38;5;34m26\u001b[0m │ input_layer_1[\u001b[38;5;34m0\u001b[0m][\u001b[38;5;34m0\u001b[0m]    │\n",
              "├───────────────────────────┼────────────────────────┼────────────────┼────────────────────────┤\n",
              "│ conv2d_12 (\u001b[38;5;33mConv2D\u001b[0m)        │ (\u001b[38;5;45mNone\u001b[0m, \u001b[38;5;34m256\u001b[0m, \u001b[38;5;34m256\u001b[0m, \u001b[38;5;34m4\u001b[0m)    │             \u001b[38;5;34m36\u001b[0m │ conv2d_11[\u001b[38;5;34m0\u001b[0m][\u001b[38;5;34m0\u001b[0m]        │\n",
              "├───────────────────────────┼────────────────────────┼────────────────┼────────────────────────┤\n",
              "│ max_pooling2d_2           │ (\u001b[38;5;45mNone\u001b[0m, \u001b[38;5;34m128\u001b[0m, \u001b[38;5;34m128\u001b[0m, \u001b[38;5;34m4\u001b[0m)    │              \u001b[38;5;34m0\u001b[0m │ conv2d_12[\u001b[38;5;34m0\u001b[0m][\u001b[38;5;34m0\u001b[0m]        │\n",
              "│ (\u001b[38;5;33mMaxPooling2D\u001b[0m)            │                        │                │                        │\n",
              "├───────────────────────────┼────────────────────────┼────────────────┼────────────────────────┤\n",
              "│ batch_normalization_5     │ (\u001b[38;5;45mNone\u001b[0m, \u001b[38;5;34m128\u001b[0m, \u001b[38;5;34m128\u001b[0m, \u001b[38;5;34m4\u001b[0m)    │             \u001b[38;5;34m16\u001b[0m │ max_pooling2d_2[\u001b[38;5;34m0\u001b[0m][\u001b[38;5;34m0\u001b[0m]  │\n",
              "│ (\u001b[38;5;33mBatchNormalization\u001b[0m)      │                        │                │                        │\n",
              "├───────────────────────────┼────────────────────────┼────────────────┼────────────────────────┤\n",
              "│ conv2d_13 (\u001b[38;5;33mConv2D\u001b[0m)        │ (\u001b[38;5;45mNone\u001b[0m, \u001b[38;5;34m128\u001b[0m, \u001b[38;5;34m128\u001b[0m, \u001b[38;5;34m4\u001b[0m)    │             \u001b[38;5;34m68\u001b[0m │ batch_normalization_5… │\n",
              "├───────────────────────────┼────────────────────────┼────────────────┼────────────────────────┤\n",
              "│ conv2d_14 (\u001b[38;5;33mConv2D\u001b[0m)        │ (\u001b[38;5;45mNone\u001b[0m, \u001b[38;5;34m128\u001b[0m, \u001b[38;5;34m128\u001b[0m, \u001b[38;5;34m8\u001b[0m)    │            \u001b[38;5;34m136\u001b[0m │ conv2d_13[\u001b[38;5;34m0\u001b[0m][\u001b[38;5;34m0\u001b[0m]        │\n",
              "├───────────────────────────┼────────────────────────┼────────────────┼────────────────────────┤\n",
              "│ max_pooling2d_3           │ (\u001b[38;5;45mNone\u001b[0m, \u001b[38;5;34m64\u001b[0m, \u001b[38;5;34m64\u001b[0m, \u001b[38;5;34m8\u001b[0m)      │              \u001b[38;5;34m0\u001b[0m │ conv2d_14[\u001b[38;5;34m0\u001b[0m][\u001b[38;5;34m0\u001b[0m]        │\n",
              "│ (\u001b[38;5;33mMaxPooling2D\u001b[0m)            │                        │                │                        │\n",
              "├───────────────────────────┼────────────────────────┼────────────────┼────────────────────────┤\n",
              "│ batch_normalization_6     │ (\u001b[38;5;45mNone\u001b[0m, \u001b[38;5;34m64\u001b[0m, \u001b[38;5;34m64\u001b[0m, \u001b[38;5;34m8\u001b[0m)      │             \u001b[38;5;34m32\u001b[0m │ max_pooling2d_3[\u001b[38;5;34m0\u001b[0m][\u001b[38;5;34m0\u001b[0m]  │\n",
              "│ (\u001b[38;5;33mBatchNormalization\u001b[0m)      │                        │                │                        │\n",
              "├───────────────────────────┼────────────────────────┼────────────────┼────────────────────────┤\n",
              "│ conv2d_15 (\u001b[38;5;33mConv2D\u001b[0m)        │ (\u001b[38;5;45mNone\u001b[0m, \u001b[38;5;34m64\u001b[0m, \u001b[38;5;34m64\u001b[0m, \u001b[38;5;34m16\u001b[0m)     │            \u001b[38;5;34m528\u001b[0m │ batch_normalization_6… │\n",
              "├───────────────────────────┼────────────────────────┼────────────────┼────────────────────────┤\n",
              "│ conv2d_16 (\u001b[38;5;33mConv2D\u001b[0m)        │ (\u001b[38;5;45mNone\u001b[0m, \u001b[38;5;34m64\u001b[0m, \u001b[38;5;34m64\u001b[0m, \u001b[38;5;34m8\u001b[0m)      │            \u001b[38;5;34m520\u001b[0m │ conv2d_15[\u001b[38;5;34m0\u001b[0m][\u001b[38;5;34m0\u001b[0m]        │\n",
              "├───────────────────────────┼────────────────────────┼────────────────┼────────────────────────┤\n",
              "│ batch_normalization_7     │ (\u001b[38;5;45mNone\u001b[0m, \u001b[38;5;34m64\u001b[0m, \u001b[38;5;34m64\u001b[0m, \u001b[38;5;34m8\u001b[0m)      │             \u001b[38;5;34m32\u001b[0m │ conv2d_16[\u001b[38;5;34m0\u001b[0m][\u001b[38;5;34m0\u001b[0m]        │\n",
              "│ (\u001b[38;5;33mBatchNormalization\u001b[0m)      │                        │                │                        │\n",
              "├───────────────────────────┼────────────────────────┼────────────────┼────────────────────────┤\n",
              "│ concatenate_2             │ (\u001b[38;5;45mNone\u001b[0m, \u001b[38;5;34m64\u001b[0m, \u001b[38;5;34m64\u001b[0m, \u001b[38;5;34m16\u001b[0m)     │              \u001b[38;5;34m0\u001b[0m │ batch_normalization_7… │\n",
              "│ (\u001b[38;5;33mConcatenate\u001b[0m)             │                        │                │ batch_normalization_6… │\n",
              "├───────────────────────────┼────────────────────────┼────────────────┼────────────────────────┤\n",
              "│ up_sampling2d_2           │ (\u001b[38;5;45mNone\u001b[0m, \u001b[38;5;34m128\u001b[0m, \u001b[38;5;34m128\u001b[0m, \u001b[38;5;34m16\u001b[0m)   │              \u001b[38;5;34m0\u001b[0m │ concatenate_2[\u001b[38;5;34m0\u001b[0m][\u001b[38;5;34m0\u001b[0m]    │\n",
              "│ (\u001b[38;5;33mUpSampling2D\u001b[0m)            │                        │                │                        │\n",
              "├───────────────────────────┼────────────────────────┼────────────────┼────────────────────────┤\n",
              "│ batch_normalization_8     │ (\u001b[38;5;45mNone\u001b[0m, \u001b[38;5;34m128\u001b[0m, \u001b[38;5;34m128\u001b[0m, \u001b[38;5;34m16\u001b[0m)   │             \u001b[38;5;34m64\u001b[0m │ up_sampling2d_2[\u001b[38;5;34m0\u001b[0m][\u001b[38;5;34m0\u001b[0m]  │\n",
              "│ (\u001b[38;5;33mBatchNormalization\u001b[0m)      │                        │                │                        │\n",
              "├───────────────────────────┼────────────────────────┼────────────────┼────────────────────────┤\n",
              "│ concatenate_3             │ (\u001b[38;5;45mNone\u001b[0m, \u001b[38;5;34m128\u001b[0m, \u001b[38;5;34m128\u001b[0m, \u001b[38;5;34m20\u001b[0m)   │              \u001b[38;5;34m0\u001b[0m │ batch_normalization_8… │\n",
              "│ (\u001b[38;5;33mConcatenate\u001b[0m)             │                        │                │ batch_normalization_5… │\n",
              "├───────────────────────────┼────────────────────────┼────────────────┼────────────────────────┤\n",
              "│ up_sampling2d_3           │ (\u001b[38;5;45mNone\u001b[0m, \u001b[38;5;34m256\u001b[0m, \u001b[38;5;34m256\u001b[0m, \u001b[38;5;34m20\u001b[0m)   │              \u001b[38;5;34m0\u001b[0m │ concatenate_3[\u001b[38;5;34m0\u001b[0m][\u001b[38;5;34m0\u001b[0m]    │\n",
              "│ (\u001b[38;5;33mUpSampling2D\u001b[0m)            │                        │                │                        │\n",
              "├───────────────────────────┼────────────────────────┼────────────────┼────────────────────────┤\n",
              "│ batch_normalization_9     │ (\u001b[38;5;45mNone\u001b[0m, \u001b[38;5;34m256\u001b[0m, \u001b[38;5;34m256\u001b[0m, \u001b[38;5;34m20\u001b[0m)   │             \u001b[38;5;34m80\u001b[0m │ up_sampling2d_3[\u001b[38;5;34m0\u001b[0m][\u001b[38;5;34m0\u001b[0m]  │\n",
              "│ (\u001b[38;5;33mBatchNormalization\u001b[0m)      │                        │                │                        │\n",
              "├───────────────────────────┼────────────────────────┼────────────────┼────────────────────────┤\n",
              "│ conv2d_21 (\u001b[38;5;33mConv2D\u001b[0m)        │ (\u001b[38;5;45mNone\u001b[0m, \u001b[38;5;34m256\u001b[0m, \u001b[38;5;34m256\u001b[0m, \u001b[38;5;34m2\u001b[0m)    │             \u001b[38;5;34m42\u001b[0m │ batch_normalization_9… │\n",
              "└───────────────────────────┴────────────────────────┴────────────────┴────────────────────────┘\n"
            ],
            "text/html": [
              "<pre style=\"white-space:pre;overflow-x:auto;line-height:normal;font-family:Menlo,'DejaVu Sans Mono',consolas,'Courier New',monospace\">┏━━━━━━━━━━━━━━━━━━━━━━━━━━━┳━━━━━━━━━━━━━━━━━━━━━━━━┳━━━━━━━━━━━━━━━━┳━━━━━━━━━━━━━━━━━━━━━━━━┓\n",
              "┃<span style=\"font-weight: bold\"> Layer (type)              </span>┃<span style=\"font-weight: bold\"> Output Shape           </span>┃<span style=\"font-weight: bold\">        Param # </span>┃<span style=\"font-weight: bold\"> Connected to           </span>┃\n",
              "┡━━━━━━━━━━━━━━━━━━━━━━━━━━━╇━━━━━━━━━━━━━━━━━━━━━━━━╇━━━━━━━━━━━━━━━━╇━━━━━━━━━━━━━━━━━━━━━━━━┩\n",
              "│ input_layer_1             │ (<span style=\"color: #00d7ff; text-decoration-color: #00d7ff\">None</span>, <span style=\"color: #00af00; text-decoration-color: #00af00\">256</span>, <span style=\"color: #00af00; text-decoration-color: #00af00\">256</span>, <span style=\"color: #00af00; text-decoration-color: #00af00\">3</span>)    │              <span style=\"color: #00af00; text-decoration-color: #00af00\">0</span> │ -                      │\n",
              "│ (<span style=\"color: #0087ff; text-decoration-color: #0087ff\">InputLayer</span>)              │                        │                │                        │\n",
              "├───────────────────────────┼────────────────────────┼────────────────┼────────────────────────┤\n",
              "│ conv2d_11 (<span style=\"color: #0087ff; text-decoration-color: #0087ff\">Conv2D</span>)        │ (<span style=\"color: #00d7ff; text-decoration-color: #00d7ff\">None</span>, <span style=\"color: #00af00; text-decoration-color: #00af00\">256</span>, <span style=\"color: #00af00; text-decoration-color: #00af00\">256</span>, <span style=\"color: #00af00; text-decoration-color: #00af00\">2</span>)    │             <span style=\"color: #00af00; text-decoration-color: #00af00\">26</span> │ input_layer_1[<span style=\"color: #00af00; text-decoration-color: #00af00\">0</span>][<span style=\"color: #00af00; text-decoration-color: #00af00\">0</span>]    │\n",
              "├───────────────────────────┼────────────────────────┼────────────────┼────────────────────────┤\n",
              "│ conv2d_12 (<span style=\"color: #0087ff; text-decoration-color: #0087ff\">Conv2D</span>)        │ (<span style=\"color: #00d7ff; text-decoration-color: #00d7ff\">None</span>, <span style=\"color: #00af00; text-decoration-color: #00af00\">256</span>, <span style=\"color: #00af00; text-decoration-color: #00af00\">256</span>, <span style=\"color: #00af00; text-decoration-color: #00af00\">4</span>)    │             <span style=\"color: #00af00; text-decoration-color: #00af00\">36</span> │ conv2d_11[<span style=\"color: #00af00; text-decoration-color: #00af00\">0</span>][<span style=\"color: #00af00; text-decoration-color: #00af00\">0</span>]        │\n",
              "├───────────────────────────┼────────────────────────┼────────────────┼────────────────────────┤\n",
              "│ max_pooling2d_2           │ (<span style=\"color: #00d7ff; text-decoration-color: #00d7ff\">None</span>, <span style=\"color: #00af00; text-decoration-color: #00af00\">128</span>, <span style=\"color: #00af00; text-decoration-color: #00af00\">128</span>, <span style=\"color: #00af00; text-decoration-color: #00af00\">4</span>)    │              <span style=\"color: #00af00; text-decoration-color: #00af00\">0</span> │ conv2d_12[<span style=\"color: #00af00; text-decoration-color: #00af00\">0</span>][<span style=\"color: #00af00; text-decoration-color: #00af00\">0</span>]        │\n",
              "│ (<span style=\"color: #0087ff; text-decoration-color: #0087ff\">MaxPooling2D</span>)            │                        │                │                        │\n",
              "├───────────────────────────┼────────────────────────┼────────────────┼────────────────────────┤\n",
              "│ batch_normalization_5     │ (<span style=\"color: #00d7ff; text-decoration-color: #00d7ff\">None</span>, <span style=\"color: #00af00; text-decoration-color: #00af00\">128</span>, <span style=\"color: #00af00; text-decoration-color: #00af00\">128</span>, <span style=\"color: #00af00; text-decoration-color: #00af00\">4</span>)    │             <span style=\"color: #00af00; text-decoration-color: #00af00\">16</span> │ max_pooling2d_2[<span style=\"color: #00af00; text-decoration-color: #00af00\">0</span>][<span style=\"color: #00af00; text-decoration-color: #00af00\">0</span>]  │\n",
              "│ (<span style=\"color: #0087ff; text-decoration-color: #0087ff\">BatchNormalization</span>)      │                        │                │                        │\n",
              "├───────────────────────────┼────────────────────────┼────────────────┼────────────────────────┤\n",
              "│ conv2d_13 (<span style=\"color: #0087ff; text-decoration-color: #0087ff\">Conv2D</span>)        │ (<span style=\"color: #00d7ff; text-decoration-color: #00d7ff\">None</span>, <span style=\"color: #00af00; text-decoration-color: #00af00\">128</span>, <span style=\"color: #00af00; text-decoration-color: #00af00\">128</span>, <span style=\"color: #00af00; text-decoration-color: #00af00\">4</span>)    │             <span style=\"color: #00af00; text-decoration-color: #00af00\">68</span> │ batch_normalization_5… │\n",
              "├───────────────────────────┼────────────────────────┼────────────────┼────────────────────────┤\n",
              "│ conv2d_14 (<span style=\"color: #0087ff; text-decoration-color: #0087ff\">Conv2D</span>)        │ (<span style=\"color: #00d7ff; text-decoration-color: #00d7ff\">None</span>, <span style=\"color: #00af00; text-decoration-color: #00af00\">128</span>, <span style=\"color: #00af00; text-decoration-color: #00af00\">128</span>, <span style=\"color: #00af00; text-decoration-color: #00af00\">8</span>)    │            <span style=\"color: #00af00; text-decoration-color: #00af00\">136</span> │ conv2d_13[<span style=\"color: #00af00; text-decoration-color: #00af00\">0</span>][<span style=\"color: #00af00; text-decoration-color: #00af00\">0</span>]        │\n",
              "├───────────────────────────┼────────────────────────┼────────────────┼────────────────────────┤\n",
              "│ max_pooling2d_3           │ (<span style=\"color: #00d7ff; text-decoration-color: #00d7ff\">None</span>, <span style=\"color: #00af00; text-decoration-color: #00af00\">64</span>, <span style=\"color: #00af00; text-decoration-color: #00af00\">64</span>, <span style=\"color: #00af00; text-decoration-color: #00af00\">8</span>)      │              <span style=\"color: #00af00; text-decoration-color: #00af00\">0</span> │ conv2d_14[<span style=\"color: #00af00; text-decoration-color: #00af00\">0</span>][<span style=\"color: #00af00; text-decoration-color: #00af00\">0</span>]        │\n",
              "│ (<span style=\"color: #0087ff; text-decoration-color: #0087ff\">MaxPooling2D</span>)            │                        │                │                        │\n",
              "├───────────────────────────┼────────────────────────┼────────────────┼────────────────────────┤\n",
              "│ batch_normalization_6     │ (<span style=\"color: #00d7ff; text-decoration-color: #00d7ff\">None</span>, <span style=\"color: #00af00; text-decoration-color: #00af00\">64</span>, <span style=\"color: #00af00; text-decoration-color: #00af00\">64</span>, <span style=\"color: #00af00; text-decoration-color: #00af00\">8</span>)      │             <span style=\"color: #00af00; text-decoration-color: #00af00\">32</span> │ max_pooling2d_3[<span style=\"color: #00af00; text-decoration-color: #00af00\">0</span>][<span style=\"color: #00af00; text-decoration-color: #00af00\">0</span>]  │\n",
              "│ (<span style=\"color: #0087ff; text-decoration-color: #0087ff\">BatchNormalization</span>)      │                        │                │                        │\n",
              "├───────────────────────────┼────────────────────────┼────────────────┼────────────────────────┤\n",
              "│ conv2d_15 (<span style=\"color: #0087ff; text-decoration-color: #0087ff\">Conv2D</span>)        │ (<span style=\"color: #00d7ff; text-decoration-color: #00d7ff\">None</span>, <span style=\"color: #00af00; text-decoration-color: #00af00\">64</span>, <span style=\"color: #00af00; text-decoration-color: #00af00\">64</span>, <span style=\"color: #00af00; text-decoration-color: #00af00\">16</span>)     │            <span style=\"color: #00af00; text-decoration-color: #00af00\">528</span> │ batch_normalization_6… │\n",
              "├───────────────────────────┼────────────────────────┼────────────────┼────────────────────────┤\n",
              "│ conv2d_16 (<span style=\"color: #0087ff; text-decoration-color: #0087ff\">Conv2D</span>)        │ (<span style=\"color: #00d7ff; text-decoration-color: #00d7ff\">None</span>, <span style=\"color: #00af00; text-decoration-color: #00af00\">64</span>, <span style=\"color: #00af00; text-decoration-color: #00af00\">64</span>, <span style=\"color: #00af00; text-decoration-color: #00af00\">8</span>)      │            <span style=\"color: #00af00; text-decoration-color: #00af00\">520</span> │ conv2d_15[<span style=\"color: #00af00; text-decoration-color: #00af00\">0</span>][<span style=\"color: #00af00; text-decoration-color: #00af00\">0</span>]        │\n",
              "├───────────────────────────┼────────────────────────┼────────────────┼────────────────────────┤\n",
              "│ batch_normalization_7     │ (<span style=\"color: #00d7ff; text-decoration-color: #00d7ff\">None</span>, <span style=\"color: #00af00; text-decoration-color: #00af00\">64</span>, <span style=\"color: #00af00; text-decoration-color: #00af00\">64</span>, <span style=\"color: #00af00; text-decoration-color: #00af00\">8</span>)      │             <span style=\"color: #00af00; text-decoration-color: #00af00\">32</span> │ conv2d_16[<span style=\"color: #00af00; text-decoration-color: #00af00\">0</span>][<span style=\"color: #00af00; text-decoration-color: #00af00\">0</span>]        │\n",
              "│ (<span style=\"color: #0087ff; text-decoration-color: #0087ff\">BatchNormalization</span>)      │                        │                │                        │\n",
              "├───────────────────────────┼────────────────────────┼────────────────┼────────────────────────┤\n",
              "│ concatenate_2             │ (<span style=\"color: #00d7ff; text-decoration-color: #00d7ff\">None</span>, <span style=\"color: #00af00; text-decoration-color: #00af00\">64</span>, <span style=\"color: #00af00; text-decoration-color: #00af00\">64</span>, <span style=\"color: #00af00; text-decoration-color: #00af00\">16</span>)     │              <span style=\"color: #00af00; text-decoration-color: #00af00\">0</span> │ batch_normalization_7… │\n",
              "│ (<span style=\"color: #0087ff; text-decoration-color: #0087ff\">Concatenate</span>)             │                        │                │ batch_normalization_6… │\n",
              "├───────────────────────────┼────────────────────────┼────────────────┼────────────────────────┤\n",
              "│ up_sampling2d_2           │ (<span style=\"color: #00d7ff; text-decoration-color: #00d7ff\">None</span>, <span style=\"color: #00af00; text-decoration-color: #00af00\">128</span>, <span style=\"color: #00af00; text-decoration-color: #00af00\">128</span>, <span style=\"color: #00af00; text-decoration-color: #00af00\">16</span>)   │              <span style=\"color: #00af00; text-decoration-color: #00af00\">0</span> │ concatenate_2[<span style=\"color: #00af00; text-decoration-color: #00af00\">0</span>][<span style=\"color: #00af00; text-decoration-color: #00af00\">0</span>]    │\n",
              "│ (<span style=\"color: #0087ff; text-decoration-color: #0087ff\">UpSampling2D</span>)            │                        │                │                        │\n",
              "├───────────────────────────┼────────────────────────┼────────────────┼────────────────────────┤\n",
              "│ batch_normalization_8     │ (<span style=\"color: #00d7ff; text-decoration-color: #00d7ff\">None</span>, <span style=\"color: #00af00; text-decoration-color: #00af00\">128</span>, <span style=\"color: #00af00; text-decoration-color: #00af00\">128</span>, <span style=\"color: #00af00; text-decoration-color: #00af00\">16</span>)   │             <span style=\"color: #00af00; text-decoration-color: #00af00\">64</span> │ up_sampling2d_2[<span style=\"color: #00af00; text-decoration-color: #00af00\">0</span>][<span style=\"color: #00af00; text-decoration-color: #00af00\">0</span>]  │\n",
              "│ (<span style=\"color: #0087ff; text-decoration-color: #0087ff\">BatchNormalization</span>)      │                        │                │                        │\n",
              "├───────────────────────────┼────────────────────────┼────────────────┼────────────────────────┤\n",
              "│ concatenate_3             │ (<span style=\"color: #00d7ff; text-decoration-color: #00d7ff\">None</span>, <span style=\"color: #00af00; text-decoration-color: #00af00\">128</span>, <span style=\"color: #00af00; text-decoration-color: #00af00\">128</span>, <span style=\"color: #00af00; text-decoration-color: #00af00\">20</span>)   │              <span style=\"color: #00af00; text-decoration-color: #00af00\">0</span> │ batch_normalization_8… │\n",
              "│ (<span style=\"color: #0087ff; text-decoration-color: #0087ff\">Concatenate</span>)             │                        │                │ batch_normalization_5… │\n",
              "├───────────────────────────┼────────────────────────┼────────────────┼────────────────────────┤\n",
              "│ up_sampling2d_3           │ (<span style=\"color: #00d7ff; text-decoration-color: #00d7ff\">None</span>, <span style=\"color: #00af00; text-decoration-color: #00af00\">256</span>, <span style=\"color: #00af00; text-decoration-color: #00af00\">256</span>, <span style=\"color: #00af00; text-decoration-color: #00af00\">20</span>)   │              <span style=\"color: #00af00; text-decoration-color: #00af00\">0</span> │ concatenate_3[<span style=\"color: #00af00; text-decoration-color: #00af00\">0</span>][<span style=\"color: #00af00; text-decoration-color: #00af00\">0</span>]    │\n",
              "│ (<span style=\"color: #0087ff; text-decoration-color: #0087ff\">UpSampling2D</span>)            │                        │                │                        │\n",
              "├───────────────────────────┼────────────────────────┼────────────────┼────────────────────────┤\n",
              "│ batch_normalization_9     │ (<span style=\"color: #00d7ff; text-decoration-color: #00d7ff\">None</span>, <span style=\"color: #00af00; text-decoration-color: #00af00\">256</span>, <span style=\"color: #00af00; text-decoration-color: #00af00\">256</span>, <span style=\"color: #00af00; text-decoration-color: #00af00\">20</span>)   │             <span style=\"color: #00af00; text-decoration-color: #00af00\">80</span> │ up_sampling2d_3[<span style=\"color: #00af00; text-decoration-color: #00af00\">0</span>][<span style=\"color: #00af00; text-decoration-color: #00af00\">0</span>]  │\n",
              "│ (<span style=\"color: #0087ff; text-decoration-color: #0087ff\">BatchNormalization</span>)      │                        │                │                        │\n",
              "├───────────────────────────┼────────────────────────┼────────────────┼────────────────────────┤\n",
              "│ conv2d_21 (<span style=\"color: #0087ff; text-decoration-color: #0087ff\">Conv2D</span>)        │ (<span style=\"color: #00d7ff; text-decoration-color: #00d7ff\">None</span>, <span style=\"color: #00af00; text-decoration-color: #00af00\">256</span>, <span style=\"color: #00af00; text-decoration-color: #00af00\">256</span>, <span style=\"color: #00af00; text-decoration-color: #00af00\">2</span>)    │             <span style=\"color: #00af00; text-decoration-color: #00af00\">42</span> │ batch_normalization_9… │\n",
              "└───────────────────────────┴────────────────────────┴────────────────┴────────────────────────┘\n",
              "</pre>\n"
            ]
          },
          "metadata": {}
        },
        {
          "output_type": "display_data",
          "data": {
            "text/plain": [
              "\u001b[1m Total params: \u001b[0m\u001b[38;5;34m1,580\u001b[0m (6.17 KB)\n"
            ],
            "text/html": [
              "<pre style=\"white-space:pre;overflow-x:auto;line-height:normal;font-family:Menlo,'DejaVu Sans Mono',consolas,'Courier New',monospace\"><span style=\"font-weight: bold\"> Total params: </span><span style=\"color: #00af00; text-decoration-color: #00af00\">1,580</span> (6.17 KB)\n",
              "</pre>\n"
            ]
          },
          "metadata": {}
        },
        {
          "output_type": "display_data",
          "data": {
            "text/plain": [
              "\u001b[1m Trainable params: \u001b[0m\u001b[38;5;34m1,468\u001b[0m (5.73 KB)\n"
            ],
            "text/html": [
              "<pre style=\"white-space:pre;overflow-x:auto;line-height:normal;font-family:Menlo,'DejaVu Sans Mono',consolas,'Courier New',monospace\"><span style=\"font-weight: bold\"> Trainable params: </span><span style=\"color: #00af00; text-decoration-color: #00af00\">1,468</span> (5.73 KB)\n",
              "</pre>\n"
            ]
          },
          "metadata": {}
        },
        {
          "output_type": "display_data",
          "data": {
            "text/plain": [
              "\u001b[1m Non-trainable params: \u001b[0m\u001b[38;5;34m112\u001b[0m (448.00 B)\n"
            ],
            "text/html": [
              "<pre style=\"white-space:pre;overflow-x:auto;line-height:normal;font-family:Menlo,'DejaVu Sans Mono',consolas,'Courier New',monospace\"><span style=\"font-weight: bold\"> Non-trainable params: </span><span style=\"color: #00af00; text-decoration-color: #00af00\">112</span> (448.00 B)\n",
              "</pre>\n"
            ]
          },
          "metadata": {}
        }
      ]
    },
    {
      "cell_type": "code",
      "metadata": {
        "id": "0FnttHCIi7Bs",
        "colab": {
          "base_uri": "https://localhost:8080/",
          "height": 1000
        },
        "outputId": "0af43252-0b52-4595-f981-a0305236ec47"
      },
      "source": [
        "input = Input(shape=input_shape)\n",
        "\n",
        "block1 = BatchNormalization(name='norm_0')(input)\n",
        "\n",
        "# Block 1\n",
        "block1 = Conv2D(8, (3,3), name='conv_11', activation='relu')(block1)\n",
        "block1 = Conv2D(16, (3,3), name='conv_12', activation='relu')(block1)\n",
        "block1 = Conv2D(32, (3,3), name='conv_13', activation='relu')(block1)\n",
        "block1 = Conv2D(64, (3,3), name='conv_14', activation='relu')(block1)\n",
        "block1 = MaxPooling2D(pool_size=(2, 2))(block1)\n",
        "block1 = BatchNormalization(name='norm_1')(block1)\n",
        "\n",
        "block1 = Conv2D(16, 1)(block1)\n",
        "\n",
        "# Block 2\n",
        "block2 = Conv2D(32, (3,3), name='conv_21', activation='relu')(block1)\n",
        "block2 = Conv2D(64, (3,3), name='conv_22', activation='relu')(block2)\n",
        "block2 = Conv2D(64, (3,3), name='conv_23', activation='relu')(block2)\n",
        "block2 = Conv2D(128, (3,3), name='conv_24', activation='relu')(block2)\n",
        "block2 = MaxPooling2D(pool_size=(2, 2))(block2)\n",
        "block2 = BatchNormalization(name='norm_2')(block2)\n",
        "\n",
        "block2 = Conv2D(64, 1)(block2)\n",
        "\n",
        "# Block 3\n",
        "block3 = Conv2D(64, (3,3), name='conv_31', activation='relu')(block2)\n",
        "block3 = Conv2D(128, (3,3), name='conv_32', activation='relu')(block3)\n",
        "block3 = Conv2D(128, (3,3), name='conv_33', activation='relu')(block3)\n",
        "block3 = Conv2D(64, (3,3), name='conv_34', activation='relu')(block3)\n",
        "block3 = MaxPooling2D(pool_size=(2, 2))(block3)\n",
        "block3 = BatchNormalization(name='norm_3')(block3)\n",
        "\n",
        "# Block 4\n",
        "block4 = Conv2D(64, (3,3), name='conv_41', activation='relu')(block3)\n",
        "block4 = Conv2D(32, (3,3), name='conv_42', activation='relu')(block4)\n",
        "block4 = Conv2D(16, (3,3), name='conv_43', activation='relu')(block4)\n",
        "block4 = Conv2D(8, (2,2), name='conv_44', activation='relu')(block4)\n",
        "block4 = MaxPooling2D(pool_size=(2, 2))(block4)\n",
        "block4 = BatchNormalization(name='norm_4')(block4)\n",
        "\n",
        "block4 = Conv2D(2, 1)(block4)\n",
        "\n",
        "block5 = GlobalAveragePooling2D()(block4)\n",
        "output = Activation('softmax')(block5)\n",
        "\n",
        "model = Model(inputs=[input], outputs=[output])\n",
        "model.compile(loss=\"categorical_crossentropy\",\n",
        "              optimizer=optimizers.Adam(learning_rate=0.0001, beta_1=0.9, beta_2=0.999, epsilon=None, decay=0.0, amsgrad=False),\n",
        "              metrics=[\"accuracy\"])\n",
        "\n",
        "plot_model(model, to_file = \"model.png\", show_shapes = True)\n",
        "model.summary()"
      ],
      "execution_count": 15,
      "outputs": [
        {
          "output_type": "display_data",
          "data": {
            "text/plain": [
              "\u001b[1mModel: \"functional_4\"\u001b[0m\n"
            ],
            "text/html": [
              "<pre style=\"white-space:pre;overflow-x:auto;line-height:normal;font-family:Menlo,'DejaVu Sans Mono',consolas,'Courier New',monospace\"><span style=\"font-weight: bold\">Model: \"functional_4\"</span>\n",
              "</pre>\n"
            ]
          },
          "metadata": {}
        },
        {
          "output_type": "display_data",
          "data": {
            "text/plain": [
              "┏━━━━━━━━━━━━━━━━━━━━━━━━━━━━━━━━━━━━━━┳━━━━━━━━━━━━━━━━━━━━━━━━━━━━━┳━━━━━━━━━━━━━━━━━┓\n",
              "┃\u001b[1m \u001b[0m\u001b[1mLayer (type)                        \u001b[0m\u001b[1m \u001b[0m┃\u001b[1m \u001b[0m\u001b[1mOutput Shape               \u001b[0m\u001b[1m \u001b[0m┃\u001b[1m \u001b[0m\u001b[1m        Param #\u001b[0m\u001b[1m \u001b[0m┃\n",
              "┡━━━━━━━━━━━━━━━━━━━━━━━━━━━━━━━━━━━━━━╇━━━━━━━━━━━━━━━━━━━━━━━━━━━━━╇━━━━━━━━━━━━━━━━━┩\n",
              "│ input_layer_4 (\u001b[38;5;33mInputLayer\u001b[0m)           │ (\u001b[38;5;45mNone\u001b[0m, \u001b[38;5;34m256\u001b[0m, \u001b[38;5;34m256\u001b[0m, \u001b[38;5;34m3\u001b[0m)         │               \u001b[38;5;34m0\u001b[0m │\n",
              "├──────────────────────────────────────┼─────────────────────────────┼─────────────────┤\n",
              "│ norm_0 (\u001b[38;5;33mBatchNormalization\u001b[0m)          │ (\u001b[38;5;45mNone\u001b[0m, \u001b[38;5;34m256\u001b[0m, \u001b[38;5;34m256\u001b[0m, \u001b[38;5;34m3\u001b[0m)         │              \u001b[38;5;34m12\u001b[0m │\n",
              "├──────────────────────────────────────┼─────────────────────────────┼─────────────────┤\n",
              "│ conv_11 (\u001b[38;5;33mConv2D\u001b[0m)                     │ (\u001b[38;5;45mNone\u001b[0m, \u001b[38;5;34m254\u001b[0m, \u001b[38;5;34m254\u001b[0m, \u001b[38;5;34m8\u001b[0m)         │             \u001b[38;5;34m224\u001b[0m │\n",
              "├──────────────────────────────────────┼─────────────────────────────┼─────────────────┤\n",
              "│ conv_12 (\u001b[38;5;33mConv2D\u001b[0m)                     │ (\u001b[38;5;45mNone\u001b[0m, \u001b[38;5;34m252\u001b[0m, \u001b[38;5;34m252\u001b[0m, \u001b[38;5;34m16\u001b[0m)        │           \u001b[38;5;34m1,168\u001b[0m │\n",
              "├──────────────────────────────────────┼─────────────────────────────┼─────────────────┤\n",
              "│ conv_13 (\u001b[38;5;33mConv2D\u001b[0m)                     │ (\u001b[38;5;45mNone\u001b[0m, \u001b[38;5;34m250\u001b[0m, \u001b[38;5;34m250\u001b[0m, \u001b[38;5;34m32\u001b[0m)        │           \u001b[38;5;34m4,640\u001b[0m │\n",
              "├──────────────────────────────────────┼─────────────────────────────┼─────────────────┤\n",
              "│ conv_14 (\u001b[38;5;33mConv2D\u001b[0m)                     │ (\u001b[38;5;45mNone\u001b[0m, \u001b[38;5;34m248\u001b[0m, \u001b[38;5;34m248\u001b[0m, \u001b[38;5;34m64\u001b[0m)        │          \u001b[38;5;34m18,496\u001b[0m │\n",
              "├──────────────────────────────────────┼─────────────────────────────┼─────────────────┤\n",
              "│ max_pooling2d_12 (\u001b[38;5;33mMaxPooling2D\u001b[0m)      │ (\u001b[38;5;45mNone\u001b[0m, \u001b[38;5;34m124\u001b[0m, \u001b[38;5;34m124\u001b[0m, \u001b[38;5;34m64\u001b[0m)        │               \u001b[38;5;34m0\u001b[0m │\n",
              "├──────────────────────────────────────┼─────────────────────────────┼─────────────────┤\n",
              "│ norm_1 (\u001b[38;5;33mBatchNormalization\u001b[0m)          │ (\u001b[38;5;45mNone\u001b[0m, \u001b[38;5;34m124\u001b[0m, \u001b[38;5;34m124\u001b[0m, \u001b[38;5;34m64\u001b[0m)        │             \u001b[38;5;34m256\u001b[0m │\n",
              "├──────────────────────────────────────┼─────────────────────────────┼─────────────────┤\n",
              "│ conv2d_28 (\u001b[38;5;33mConv2D\u001b[0m)                   │ (\u001b[38;5;45mNone\u001b[0m, \u001b[38;5;34m124\u001b[0m, \u001b[38;5;34m124\u001b[0m, \u001b[38;5;34m16\u001b[0m)        │           \u001b[38;5;34m1,040\u001b[0m │\n",
              "├──────────────────────────────────────┼─────────────────────────────┼─────────────────┤\n",
              "│ conv_21 (\u001b[38;5;33mConv2D\u001b[0m)                     │ (\u001b[38;5;45mNone\u001b[0m, \u001b[38;5;34m122\u001b[0m, \u001b[38;5;34m122\u001b[0m, \u001b[38;5;34m32\u001b[0m)        │           \u001b[38;5;34m4,640\u001b[0m │\n",
              "├──────────────────────────────────────┼─────────────────────────────┼─────────────────┤\n",
              "│ conv_22 (\u001b[38;5;33mConv2D\u001b[0m)                     │ (\u001b[38;5;45mNone\u001b[0m, \u001b[38;5;34m120\u001b[0m, \u001b[38;5;34m120\u001b[0m, \u001b[38;5;34m64\u001b[0m)        │          \u001b[38;5;34m18,496\u001b[0m │\n",
              "├──────────────────────────────────────┼─────────────────────────────┼─────────────────┤\n",
              "│ conv_23 (\u001b[38;5;33mConv2D\u001b[0m)                     │ (\u001b[38;5;45mNone\u001b[0m, \u001b[38;5;34m118\u001b[0m, \u001b[38;5;34m118\u001b[0m, \u001b[38;5;34m64\u001b[0m)        │          \u001b[38;5;34m36,928\u001b[0m │\n",
              "├──────────────────────────────────────┼─────────────────────────────┼─────────────────┤\n",
              "│ conv_24 (\u001b[38;5;33mConv2D\u001b[0m)                     │ (\u001b[38;5;45mNone\u001b[0m, \u001b[38;5;34m116\u001b[0m, \u001b[38;5;34m116\u001b[0m, \u001b[38;5;34m128\u001b[0m)       │          \u001b[38;5;34m73,856\u001b[0m │\n",
              "├──────────────────────────────────────┼─────────────────────────────┼─────────────────┤\n",
              "│ max_pooling2d_13 (\u001b[38;5;33mMaxPooling2D\u001b[0m)      │ (\u001b[38;5;45mNone\u001b[0m, \u001b[38;5;34m58\u001b[0m, \u001b[38;5;34m58\u001b[0m, \u001b[38;5;34m128\u001b[0m)         │               \u001b[38;5;34m0\u001b[0m │\n",
              "├──────────────────────────────────────┼─────────────────────────────┼─────────────────┤\n",
              "│ norm_2 (\u001b[38;5;33mBatchNormalization\u001b[0m)          │ (\u001b[38;5;45mNone\u001b[0m, \u001b[38;5;34m58\u001b[0m, \u001b[38;5;34m58\u001b[0m, \u001b[38;5;34m128\u001b[0m)         │             \u001b[38;5;34m512\u001b[0m │\n",
              "├──────────────────────────────────────┼─────────────────────────────┼─────────────────┤\n",
              "│ conv2d_29 (\u001b[38;5;33mConv2D\u001b[0m)                   │ (\u001b[38;5;45mNone\u001b[0m, \u001b[38;5;34m58\u001b[0m, \u001b[38;5;34m58\u001b[0m, \u001b[38;5;34m64\u001b[0m)          │           \u001b[38;5;34m8,256\u001b[0m │\n",
              "├──────────────────────────────────────┼─────────────────────────────┼─────────────────┤\n",
              "│ conv_31 (\u001b[38;5;33mConv2D\u001b[0m)                     │ (\u001b[38;5;45mNone\u001b[0m, \u001b[38;5;34m56\u001b[0m, \u001b[38;5;34m56\u001b[0m, \u001b[38;5;34m64\u001b[0m)          │          \u001b[38;5;34m36,928\u001b[0m │\n",
              "├──────────────────────────────────────┼─────────────────────────────┼─────────────────┤\n",
              "│ conv_32 (\u001b[38;5;33mConv2D\u001b[0m)                     │ (\u001b[38;5;45mNone\u001b[0m, \u001b[38;5;34m54\u001b[0m, \u001b[38;5;34m54\u001b[0m, \u001b[38;5;34m128\u001b[0m)         │          \u001b[38;5;34m73,856\u001b[0m │\n",
              "├──────────────────────────────────────┼─────────────────────────────┼─────────────────┤\n",
              "│ conv_33 (\u001b[38;5;33mConv2D\u001b[0m)                     │ (\u001b[38;5;45mNone\u001b[0m, \u001b[38;5;34m52\u001b[0m, \u001b[38;5;34m52\u001b[0m, \u001b[38;5;34m128\u001b[0m)         │         \u001b[38;5;34m147,584\u001b[0m │\n",
              "├──────────────────────────────────────┼─────────────────────────────┼─────────────────┤\n",
              "│ conv_34 (\u001b[38;5;33mConv2D\u001b[0m)                     │ (\u001b[38;5;45mNone\u001b[0m, \u001b[38;5;34m50\u001b[0m, \u001b[38;5;34m50\u001b[0m, \u001b[38;5;34m64\u001b[0m)          │          \u001b[38;5;34m73,792\u001b[0m │\n",
              "├──────────────────────────────────────┼─────────────────────────────┼─────────────────┤\n",
              "│ max_pooling2d_14 (\u001b[38;5;33mMaxPooling2D\u001b[0m)      │ (\u001b[38;5;45mNone\u001b[0m, \u001b[38;5;34m25\u001b[0m, \u001b[38;5;34m25\u001b[0m, \u001b[38;5;34m64\u001b[0m)          │               \u001b[38;5;34m0\u001b[0m │\n",
              "├──────────────────────────────────────┼─────────────────────────────┼─────────────────┤\n",
              "│ norm_3 (\u001b[38;5;33mBatchNormalization\u001b[0m)          │ (\u001b[38;5;45mNone\u001b[0m, \u001b[38;5;34m25\u001b[0m, \u001b[38;5;34m25\u001b[0m, \u001b[38;5;34m64\u001b[0m)          │             \u001b[38;5;34m256\u001b[0m │\n",
              "├──────────────────────────────────────┼─────────────────────────────┼─────────────────┤\n",
              "│ conv_41 (\u001b[38;5;33mConv2D\u001b[0m)                     │ (\u001b[38;5;45mNone\u001b[0m, \u001b[38;5;34m23\u001b[0m, \u001b[38;5;34m23\u001b[0m, \u001b[38;5;34m64\u001b[0m)          │          \u001b[38;5;34m36,928\u001b[0m │\n",
              "├──────────────────────────────────────┼─────────────────────────────┼─────────────────┤\n",
              "│ conv_42 (\u001b[38;5;33mConv2D\u001b[0m)                     │ (\u001b[38;5;45mNone\u001b[0m, \u001b[38;5;34m21\u001b[0m, \u001b[38;5;34m21\u001b[0m, \u001b[38;5;34m32\u001b[0m)          │          \u001b[38;5;34m18,464\u001b[0m │\n",
              "├──────────────────────────────────────┼─────────────────────────────┼─────────────────┤\n",
              "│ conv_43 (\u001b[38;5;33mConv2D\u001b[0m)                     │ (\u001b[38;5;45mNone\u001b[0m, \u001b[38;5;34m19\u001b[0m, \u001b[38;5;34m19\u001b[0m, \u001b[38;5;34m16\u001b[0m)          │           \u001b[38;5;34m4,624\u001b[0m │\n",
              "├──────────────────────────────────────┼─────────────────────────────┼─────────────────┤\n",
              "│ conv_44 (\u001b[38;5;33mConv2D\u001b[0m)                     │ (\u001b[38;5;45mNone\u001b[0m, \u001b[38;5;34m18\u001b[0m, \u001b[38;5;34m18\u001b[0m, \u001b[38;5;34m8\u001b[0m)           │             \u001b[38;5;34m520\u001b[0m │\n",
              "├──────────────────────────────────────┼─────────────────────────────┼─────────────────┤\n",
              "│ max_pooling2d_15 (\u001b[38;5;33mMaxPooling2D\u001b[0m)      │ (\u001b[38;5;45mNone\u001b[0m, \u001b[38;5;34m9\u001b[0m, \u001b[38;5;34m9\u001b[0m, \u001b[38;5;34m8\u001b[0m)             │               \u001b[38;5;34m0\u001b[0m │\n",
              "├──────────────────────────────────────┼─────────────────────────────┼─────────────────┤\n",
              "│ norm_4 (\u001b[38;5;33mBatchNormalization\u001b[0m)          │ (\u001b[38;5;45mNone\u001b[0m, \u001b[38;5;34m9\u001b[0m, \u001b[38;5;34m9\u001b[0m, \u001b[38;5;34m8\u001b[0m)             │              \u001b[38;5;34m32\u001b[0m │\n",
              "├──────────────────────────────────────┼─────────────────────────────┼─────────────────┤\n",
              "│ conv2d_30 (\u001b[38;5;33mConv2D\u001b[0m)                   │ (\u001b[38;5;45mNone\u001b[0m, \u001b[38;5;34m9\u001b[0m, \u001b[38;5;34m9\u001b[0m, \u001b[38;5;34m2\u001b[0m)             │              \u001b[38;5;34m18\u001b[0m │\n",
              "├──────────────────────────────────────┼─────────────────────────────┼─────────────────┤\n",
              "│ global_average_pooling2d_2           │ (\u001b[38;5;45mNone\u001b[0m, \u001b[38;5;34m2\u001b[0m)                   │               \u001b[38;5;34m0\u001b[0m │\n",
              "│ (\u001b[38;5;33mGlobalAveragePooling2D\u001b[0m)             │                             │                 │\n",
              "├──────────────────────────────────────┼─────────────────────────────┼─────────────────┤\n",
              "│ activation_2 (\u001b[38;5;33mActivation\u001b[0m)            │ (\u001b[38;5;45mNone\u001b[0m, \u001b[38;5;34m2\u001b[0m)                   │               \u001b[38;5;34m0\u001b[0m │\n",
              "└──────────────────────────────────────┴─────────────────────────────┴─────────────────┘\n"
            ],
            "text/html": [
              "<pre style=\"white-space:pre;overflow-x:auto;line-height:normal;font-family:Menlo,'DejaVu Sans Mono',consolas,'Courier New',monospace\">┏━━━━━━━━━━━━━━━━━━━━━━━━━━━━━━━━━━━━━━┳━━━━━━━━━━━━━━━━━━━━━━━━━━━━━┳━━━━━━━━━━━━━━━━━┓\n",
              "┃<span style=\"font-weight: bold\"> Layer (type)                         </span>┃<span style=\"font-weight: bold\"> Output Shape                </span>┃<span style=\"font-weight: bold\">         Param # </span>┃\n",
              "┡━━━━━━━━━━━━━━━━━━━━━━━━━━━━━━━━━━━━━━╇━━━━━━━━━━━━━━━━━━━━━━━━━━━━━╇━━━━━━━━━━━━━━━━━┩\n",
              "│ input_layer_4 (<span style=\"color: #0087ff; text-decoration-color: #0087ff\">InputLayer</span>)           │ (<span style=\"color: #00d7ff; text-decoration-color: #00d7ff\">None</span>, <span style=\"color: #00af00; text-decoration-color: #00af00\">256</span>, <span style=\"color: #00af00; text-decoration-color: #00af00\">256</span>, <span style=\"color: #00af00; text-decoration-color: #00af00\">3</span>)         │               <span style=\"color: #00af00; text-decoration-color: #00af00\">0</span> │\n",
              "├──────────────────────────────────────┼─────────────────────────────┼─────────────────┤\n",
              "│ norm_0 (<span style=\"color: #0087ff; text-decoration-color: #0087ff\">BatchNormalization</span>)          │ (<span style=\"color: #00d7ff; text-decoration-color: #00d7ff\">None</span>, <span style=\"color: #00af00; text-decoration-color: #00af00\">256</span>, <span style=\"color: #00af00; text-decoration-color: #00af00\">256</span>, <span style=\"color: #00af00; text-decoration-color: #00af00\">3</span>)         │              <span style=\"color: #00af00; text-decoration-color: #00af00\">12</span> │\n",
              "├──────────────────────────────────────┼─────────────────────────────┼─────────────────┤\n",
              "│ conv_11 (<span style=\"color: #0087ff; text-decoration-color: #0087ff\">Conv2D</span>)                     │ (<span style=\"color: #00d7ff; text-decoration-color: #00d7ff\">None</span>, <span style=\"color: #00af00; text-decoration-color: #00af00\">254</span>, <span style=\"color: #00af00; text-decoration-color: #00af00\">254</span>, <span style=\"color: #00af00; text-decoration-color: #00af00\">8</span>)         │             <span style=\"color: #00af00; text-decoration-color: #00af00\">224</span> │\n",
              "├──────────────────────────────────────┼─────────────────────────────┼─────────────────┤\n",
              "│ conv_12 (<span style=\"color: #0087ff; text-decoration-color: #0087ff\">Conv2D</span>)                     │ (<span style=\"color: #00d7ff; text-decoration-color: #00d7ff\">None</span>, <span style=\"color: #00af00; text-decoration-color: #00af00\">252</span>, <span style=\"color: #00af00; text-decoration-color: #00af00\">252</span>, <span style=\"color: #00af00; text-decoration-color: #00af00\">16</span>)        │           <span style=\"color: #00af00; text-decoration-color: #00af00\">1,168</span> │\n",
              "├──────────────────────────────────────┼─────────────────────────────┼─────────────────┤\n",
              "│ conv_13 (<span style=\"color: #0087ff; text-decoration-color: #0087ff\">Conv2D</span>)                     │ (<span style=\"color: #00d7ff; text-decoration-color: #00d7ff\">None</span>, <span style=\"color: #00af00; text-decoration-color: #00af00\">250</span>, <span style=\"color: #00af00; text-decoration-color: #00af00\">250</span>, <span style=\"color: #00af00; text-decoration-color: #00af00\">32</span>)        │           <span style=\"color: #00af00; text-decoration-color: #00af00\">4,640</span> │\n",
              "├──────────────────────────────────────┼─────────────────────────────┼─────────────────┤\n",
              "│ conv_14 (<span style=\"color: #0087ff; text-decoration-color: #0087ff\">Conv2D</span>)                     │ (<span style=\"color: #00d7ff; text-decoration-color: #00d7ff\">None</span>, <span style=\"color: #00af00; text-decoration-color: #00af00\">248</span>, <span style=\"color: #00af00; text-decoration-color: #00af00\">248</span>, <span style=\"color: #00af00; text-decoration-color: #00af00\">64</span>)        │          <span style=\"color: #00af00; text-decoration-color: #00af00\">18,496</span> │\n",
              "├──────────────────────────────────────┼─────────────────────────────┼─────────────────┤\n",
              "│ max_pooling2d_12 (<span style=\"color: #0087ff; text-decoration-color: #0087ff\">MaxPooling2D</span>)      │ (<span style=\"color: #00d7ff; text-decoration-color: #00d7ff\">None</span>, <span style=\"color: #00af00; text-decoration-color: #00af00\">124</span>, <span style=\"color: #00af00; text-decoration-color: #00af00\">124</span>, <span style=\"color: #00af00; text-decoration-color: #00af00\">64</span>)        │               <span style=\"color: #00af00; text-decoration-color: #00af00\">0</span> │\n",
              "├──────────────────────────────────────┼─────────────────────────────┼─────────────────┤\n",
              "│ norm_1 (<span style=\"color: #0087ff; text-decoration-color: #0087ff\">BatchNormalization</span>)          │ (<span style=\"color: #00d7ff; text-decoration-color: #00d7ff\">None</span>, <span style=\"color: #00af00; text-decoration-color: #00af00\">124</span>, <span style=\"color: #00af00; text-decoration-color: #00af00\">124</span>, <span style=\"color: #00af00; text-decoration-color: #00af00\">64</span>)        │             <span style=\"color: #00af00; text-decoration-color: #00af00\">256</span> │\n",
              "├──────────────────────────────────────┼─────────────────────────────┼─────────────────┤\n",
              "│ conv2d_28 (<span style=\"color: #0087ff; text-decoration-color: #0087ff\">Conv2D</span>)                   │ (<span style=\"color: #00d7ff; text-decoration-color: #00d7ff\">None</span>, <span style=\"color: #00af00; text-decoration-color: #00af00\">124</span>, <span style=\"color: #00af00; text-decoration-color: #00af00\">124</span>, <span style=\"color: #00af00; text-decoration-color: #00af00\">16</span>)        │           <span style=\"color: #00af00; text-decoration-color: #00af00\">1,040</span> │\n",
              "├──────────────────────────────────────┼─────────────────────────────┼─────────────────┤\n",
              "│ conv_21 (<span style=\"color: #0087ff; text-decoration-color: #0087ff\">Conv2D</span>)                     │ (<span style=\"color: #00d7ff; text-decoration-color: #00d7ff\">None</span>, <span style=\"color: #00af00; text-decoration-color: #00af00\">122</span>, <span style=\"color: #00af00; text-decoration-color: #00af00\">122</span>, <span style=\"color: #00af00; text-decoration-color: #00af00\">32</span>)        │           <span style=\"color: #00af00; text-decoration-color: #00af00\">4,640</span> │\n",
              "├──────────────────────────────────────┼─────────────────────────────┼─────────────────┤\n",
              "│ conv_22 (<span style=\"color: #0087ff; text-decoration-color: #0087ff\">Conv2D</span>)                     │ (<span style=\"color: #00d7ff; text-decoration-color: #00d7ff\">None</span>, <span style=\"color: #00af00; text-decoration-color: #00af00\">120</span>, <span style=\"color: #00af00; text-decoration-color: #00af00\">120</span>, <span style=\"color: #00af00; text-decoration-color: #00af00\">64</span>)        │          <span style=\"color: #00af00; text-decoration-color: #00af00\">18,496</span> │\n",
              "├──────────────────────────────────────┼─────────────────────────────┼─────────────────┤\n",
              "│ conv_23 (<span style=\"color: #0087ff; text-decoration-color: #0087ff\">Conv2D</span>)                     │ (<span style=\"color: #00d7ff; text-decoration-color: #00d7ff\">None</span>, <span style=\"color: #00af00; text-decoration-color: #00af00\">118</span>, <span style=\"color: #00af00; text-decoration-color: #00af00\">118</span>, <span style=\"color: #00af00; text-decoration-color: #00af00\">64</span>)        │          <span style=\"color: #00af00; text-decoration-color: #00af00\">36,928</span> │\n",
              "├──────────────────────────────────────┼─────────────────────────────┼─────────────────┤\n",
              "│ conv_24 (<span style=\"color: #0087ff; text-decoration-color: #0087ff\">Conv2D</span>)                     │ (<span style=\"color: #00d7ff; text-decoration-color: #00d7ff\">None</span>, <span style=\"color: #00af00; text-decoration-color: #00af00\">116</span>, <span style=\"color: #00af00; text-decoration-color: #00af00\">116</span>, <span style=\"color: #00af00; text-decoration-color: #00af00\">128</span>)       │          <span style=\"color: #00af00; text-decoration-color: #00af00\">73,856</span> │\n",
              "├──────────────────────────────────────┼─────────────────────────────┼─────────────────┤\n",
              "│ max_pooling2d_13 (<span style=\"color: #0087ff; text-decoration-color: #0087ff\">MaxPooling2D</span>)      │ (<span style=\"color: #00d7ff; text-decoration-color: #00d7ff\">None</span>, <span style=\"color: #00af00; text-decoration-color: #00af00\">58</span>, <span style=\"color: #00af00; text-decoration-color: #00af00\">58</span>, <span style=\"color: #00af00; text-decoration-color: #00af00\">128</span>)         │               <span style=\"color: #00af00; text-decoration-color: #00af00\">0</span> │\n",
              "├──────────────────────────────────────┼─────────────────────────────┼─────────────────┤\n",
              "│ norm_2 (<span style=\"color: #0087ff; text-decoration-color: #0087ff\">BatchNormalization</span>)          │ (<span style=\"color: #00d7ff; text-decoration-color: #00d7ff\">None</span>, <span style=\"color: #00af00; text-decoration-color: #00af00\">58</span>, <span style=\"color: #00af00; text-decoration-color: #00af00\">58</span>, <span style=\"color: #00af00; text-decoration-color: #00af00\">128</span>)         │             <span style=\"color: #00af00; text-decoration-color: #00af00\">512</span> │\n",
              "├──────────────────────────────────────┼─────────────────────────────┼─────────────────┤\n",
              "│ conv2d_29 (<span style=\"color: #0087ff; text-decoration-color: #0087ff\">Conv2D</span>)                   │ (<span style=\"color: #00d7ff; text-decoration-color: #00d7ff\">None</span>, <span style=\"color: #00af00; text-decoration-color: #00af00\">58</span>, <span style=\"color: #00af00; text-decoration-color: #00af00\">58</span>, <span style=\"color: #00af00; text-decoration-color: #00af00\">64</span>)          │           <span style=\"color: #00af00; text-decoration-color: #00af00\">8,256</span> │\n",
              "├──────────────────────────────────────┼─────────────────────────────┼─────────────────┤\n",
              "│ conv_31 (<span style=\"color: #0087ff; text-decoration-color: #0087ff\">Conv2D</span>)                     │ (<span style=\"color: #00d7ff; text-decoration-color: #00d7ff\">None</span>, <span style=\"color: #00af00; text-decoration-color: #00af00\">56</span>, <span style=\"color: #00af00; text-decoration-color: #00af00\">56</span>, <span style=\"color: #00af00; text-decoration-color: #00af00\">64</span>)          │          <span style=\"color: #00af00; text-decoration-color: #00af00\">36,928</span> │\n",
              "├──────────────────────────────────────┼─────────────────────────────┼─────────────────┤\n",
              "│ conv_32 (<span style=\"color: #0087ff; text-decoration-color: #0087ff\">Conv2D</span>)                     │ (<span style=\"color: #00d7ff; text-decoration-color: #00d7ff\">None</span>, <span style=\"color: #00af00; text-decoration-color: #00af00\">54</span>, <span style=\"color: #00af00; text-decoration-color: #00af00\">54</span>, <span style=\"color: #00af00; text-decoration-color: #00af00\">128</span>)         │          <span style=\"color: #00af00; text-decoration-color: #00af00\">73,856</span> │\n",
              "├──────────────────────────────────────┼─────────────────────────────┼─────────────────┤\n",
              "│ conv_33 (<span style=\"color: #0087ff; text-decoration-color: #0087ff\">Conv2D</span>)                     │ (<span style=\"color: #00d7ff; text-decoration-color: #00d7ff\">None</span>, <span style=\"color: #00af00; text-decoration-color: #00af00\">52</span>, <span style=\"color: #00af00; text-decoration-color: #00af00\">52</span>, <span style=\"color: #00af00; text-decoration-color: #00af00\">128</span>)         │         <span style=\"color: #00af00; text-decoration-color: #00af00\">147,584</span> │\n",
              "├──────────────────────────────────────┼─────────────────────────────┼─────────────────┤\n",
              "│ conv_34 (<span style=\"color: #0087ff; text-decoration-color: #0087ff\">Conv2D</span>)                     │ (<span style=\"color: #00d7ff; text-decoration-color: #00d7ff\">None</span>, <span style=\"color: #00af00; text-decoration-color: #00af00\">50</span>, <span style=\"color: #00af00; text-decoration-color: #00af00\">50</span>, <span style=\"color: #00af00; text-decoration-color: #00af00\">64</span>)          │          <span style=\"color: #00af00; text-decoration-color: #00af00\">73,792</span> │\n",
              "├──────────────────────────────────────┼─────────────────────────────┼─────────────────┤\n",
              "│ max_pooling2d_14 (<span style=\"color: #0087ff; text-decoration-color: #0087ff\">MaxPooling2D</span>)      │ (<span style=\"color: #00d7ff; text-decoration-color: #00d7ff\">None</span>, <span style=\"color: #00af00; text-decoration-color: #00af00\">25</span>, <span style=\"color: #00af00; text-decoration-color: #00af00\">25</span>, <span style=\"color: #00af00; text-decoration-color: #00af00\">64</span>)          │               <span style=\"color: #00af00; text-decoration-color: #00af00\">0</span> │\n",
              "├──────────────────────────────────────┼─────────────────────────────┼─────────────────┤\n",
              "│ norm_3 (<span style=\"color: #0087ff; text-decoration-color: #0087ff\">BatchNormalization</span>)          │ (<span style=\"color: #00d7ff; text-decoration-color: #00d7ff\">None</span>, <span style=\"color: #00af00; text-decoration-color: #00af00\">25</span>, <span style=\"color: #00af00; text-decoration-color: #00af00\">25</span>, <span style=\"color: #00af00; text-decoration-color: #00af00\">64</span>)          │             <span style=\"color: #00af00; text-decoration-color: #00af00\">256</span> │\n",
              "├──────────────────────────────────────┼─────────────────────────────┼─────────────────┤\n",
              "│ conv_41 (<span style=\"color: #0087ff; text-decoration-color: #0087ff\">Conv2D</span>)                     │ (<span style=\"color: #00d7ff; text-decoration-color: #00d7ff\">None</span>, <span style=\"color: #00af00; text-decoration-color: #00af00\">23</span>, <span style=\"color: #00af00; text-decoration-color: #00af00\">23</span>, <span style=\"color: #00af00; text-decoration-color: #00af00\">64</span>)          │          <span style=\"color: #00af00; text-decoration-color: #00af00\">36,928</span> │\n",
              "├──────────────────────────────────────┼─────────────────────────────┼─────────────────┤\n",
              "│ conv_42 (<span style=\"color: #0087ff; text-decoration-color: #0087ff\">Conv2D</span>)                     │ (<span style=\"color: #00d7ff; text-decoration-color: #00d7ff\">None</span>, <span style=\"color: #00af00; text-decoration-color: #00af00\">21</span>, <span style=\"color: #00af00; text-decoration-color: #00af00\">21</span>, <span style=\"color: #00af00; text-decoration-color: #00af00\">32</span>)          │          <span style=\"color: #00af00; text-decoration-color: #00af00\">18,464</span> │\n",
              "├──────────────────────────────────────┼─────────────────────────────┼─────────────────┤\n",
              "│ conv_43 (<span style=\"color: #0087ff; text-decoration-color: #0087ff\">Conv2D</span>)                     │ (<span style=\"color: #00d7ff; text-decoration-color: #00d7ff\">None</span>, <span style=\"color: #00af00; text-decoration-color: #00af00\">19</span>, <span style=\"color: #00af00; text-decoration-color: #00af00\">19</span>, <span style=\"color: #00af00; text-decoration-color: #00af00\">16</span>)          │           <span style=\"color: #00af00; text-decoration-color: #00af00\">4,624</span> │\n",
              "├──────────────────────────────────────┼─────────────────────────────┼─────────────────┤\n",
              "│ conv_44 (<span style=\"color: #0087ff; text-decoration-color: #0087ff\">Conv2D</span>)                     │ (<span style=\"color: #00d7ff; text-decoration-color: #00d7ff\">None</span>, <span style=\"color: #00af00; text-decoration-color: #00af00\">18</span>, <span style=\"color: #00af00; text-decoration-color: #00af00\">18</span>, <span style=\"color: #00af00; text-decoration-color: #00af00\">8</span>)           │             <span style=\"color: #00af00; text-decoration-color: #00af00\">520</span> │\n",
              "├──────────────────────────────────────┼─────────────────────────────┼─────────────────┤\n",
              "│ max_pooling2d_15 (<span style=\"color: #0087ff; text-decoration-color: #0087ff\">MaxPooling2D</span>)      │ (<span style=\"color: #00d7ff; text-decoration-color: #00d7ff\">None</span>, <span style=\"color: #00af00; text-decoration-color: #00af00\">9</span>, <span style=\"color: #00af00; text-decoration-color: #00af00\">9</span>, <span style=\"color: #00af00; text-decoration-color: #00af00\">8</span>)             │               <span style=\"color: #00af00; text-decoration-color: #00af00\">0</span> │\n",
              "├──────────────────────────────────────┼─────────────────────────────┼─────────────────┤\n",
              "│ norm_4 (<span style=\"color: #0087ff; text-decoration-color: #0087ff\">BatchNormalization</span>)          │ (<span style=\"color: #00d7ff; text-decoration-color: #00d7ff\">None</span>, <span style=\"color: #00af00; text-decoration-color: #00af00\">9</span>, <span style=\"color: #00af00; text-decoration-color: #00af00\">9</span>, <span style=\"color: #00af00; text-decoration-color: #00af00\">8</span>)             │              <span style=\"color: #00af00; text-decoration-color: #00af00\">32</span> │\n",
              "├──────────────────────────────────────┼─────────────────────────────┼─────────────────┤\n",
              "│ conv2d_30 (<span style=\"color: #0087ff; text-decoration-color: #0087ff\">Conv2D</span>)                   │ (<span style=\"color: #00d7ff; text-decoration-color: #00d7ff\">None</span>, <span style=\"color: #00af00; text-decoration-color: #00af00\">9</span>, <span style=\"color: #00af00; text-decoration-color: #00af00\">9</span>, <span style=\"color: #00af00; text-decoration-color: #00af00\">2</span>)             │              <span style=\"color: #00af00; text-decoration-color: #00af00\">18</span> │\n",
              "├──────────────────────────────────────┼─────────────────────────────┼─────────────────┤\n",
              "│ global_average_pooling2d_2           │ (<span style=\"color: #00d7ff; text-decoration-color: #00d7ff\">None</span>, <span style=\"color: #00af00; text-decoration-color: #00af00\">2</span>)                   │               <span style=\"color: #00af00; text-decoration-color: #00af00\">0</span> │\n",
              "│ (<span style=\"color: #0087ff; text-decoration-color: #0087ff\">GlobalAveragePooling2D</span>)             │                             │                 │\n",
              "├──────────────────────────────────────┼─────────────────────────────┼─────────────────┤\n",
              "│ activation_2 (<span style=\"color: #0087ff; text-decoration-color: #0087ff\">Activation</span>)            │ (<span style=\"color: #00d7ff; text-decoration-color: #00d7ff\">None</span>, <span style=\"color: #00af00; text-decoration-color: #00af00\">2</span>)                   │               <span style=\"color: #00af00; text-decoration-color: #00af00\">0</span> │\n",
              "└──────────────────────────────────────┴─────────────────────────────┴─────────────────┘\n",
              "</pre>\n"
            ]
          },
          "metadata": {}
        },
        {
          "output_type": "display_data",
          "data": {
            "text/plain": [
              "\u001b[1m Total params: \u001b[0m\u001b[38;5;34m561,526\u001b[0m (2.14 MB)\n"
            ],
            "text/html": [
              "<pre style=\"white-space:pre;overflow-x:auto;line-height:normal;font-family:Menlo,'DejaVu Sans Mono',consolas,'Courier New',monospace\"><span style=\"font-weight: bold\"> Total params: </span><span style=\"color: #00af00; text-decoration-color: #00af00\">561,526</span> (2.14 MB)\n",
              "</pre>\n"
            ]
          },
          "metadata": {}
        },
        {
          "output_type": "display_data",
          "data": {
            "text/plain": [
              "\u001b[1m Trainable params: \u001b[0m\u001b[38;5;34m560,992\u001b[0m (2.14 MB)\n"
            ],
            "text/html": [
              "<pre style=\"white-space:pre;overflow-x:auto;line-height:normal;font-family:Menlo,'DejaVu Sans Mono',consolas,'Courier New',monospace\"><span style=\"font-weight: bold\"> Trainable params: </span><span style=\"color: #00af00; text-decoration-color: #00af00\">560,992</span> (2.14 MB)\n",
              "</pre>\n"
            ]
          },
          "metadata": {}
        },
        {
          "output_type": "display_data",
          "data": {
            "text/plain": [
              "\u001b[1m Non-trainable params: \u001b[0m\u001b[38;5;34m534\u001b[0m (2.09 KB)\n"
            ],
            "text/html": [
              "<pre style=\"white-space:pre;overflow-x:auto;line-height:normal;font-family:Menlo,'DejaVu Sans Mono',consolas,'Courier New',monospace\"><span style=\"font-weight: bold\"> Non-trainable params: </span><span style=\"color: #00af00; text-decoration-color: #00af00\">534</span> (2.09 KB)\n",
              "</pre>\n"
            ]
          },
          "metadata": {}
        }
      ]
    },
    {
      "cell_type": "code",
      "metadata": {
        "id": "xQ2-JokHj-G9"
      },
      "source": [
        "# Augmentationb\n",
        "sometimes = lambda aug: iaa.Sometimes(0.6, aug)\n",
        "seq = iaa.Sequential([\n",
        "                      iaa.GaussianBlur(sigma=(0 , 1.0)),\n",
        "                      iaa.Sharpen(alpha=1, lightness=0),\n",
        "                      iaa.CoarseDropout(p=0.1, size_percent=0.15),\n",
        "                              sometimes(iaa.Affine(\n",
        "                                                    scale={\"x\": (0.8, 1.2), \"y\": (0.8, 1.2)},\n",
        "                                                    translate_percent={\"x\": (-0.2, 0.2), \"y\": (-0.2, 0.2)},\n",
        "                                                    rotate=(-30, 30),\n",
        "                                                    shear=(-16, 16)))\n",
        "                    ])"
      ],
      "execution_count": 16,
      "outputs": []
    },
    {
      "cell_type": "markdown",
      "metadata": {
        "id": "46HG6L-MkKGe"
      },
      "source": [
        "# Data Generators"
      ]
    },
    {
      "cell_type": "code",
      "metadata": {
        "id": "vKs1083SkGws",
        "colab": {
          "base_uri": "https://localhost:8080/"
        },
        "outputId": "a1f1349c-f677-4d39-89ec-654293271d3a"
      },
      "source": [
        "# Data generators\n",
        "\n",
        "train_datagen = ImageDataGenerator(\n",
        "    rescale=1./255,\n",
        "    # preprocessing_function=seq.augment_image,\n",
        "    horizontal_flip=True,\n",
        "    vertical_flip=True)\n",
        "\n",
        "val_datagen = ImageDataGenerator(\n",
        "    rescale=1./255,\n",
        "    horizontal_flip=True,\n",
        "    vertical_flip=True)\n",
        "\n",
        "test_datagen = ImageDataGenerator(\n",
        "    rescale=1./255,\n",
        "    horizontal_flip=True,\n",
        "    vertical_flip=True)\n",
        "\n",
        "train_generator = train_datagen.flow_from_directory(\n",
        "    train_data_dir,\n",
        "    target_size=(img_height, img_width),\n",
        "    batch_size=32,\n",
        "    class_mode=\"categorical\")\n",
        "\n",
        "\n",
        "\n",
        "validation_generator = val_datagen.flow_from_directory(\n",
        "    validation_data_dir,\n",
        "    target_size=(img_height, img_width),\n",
        "    class_mode=\"categorical\")\n",
        "\n",
        "test_generator = test_datagen.flow_from_directory(\n",
        "    test_data_dir,\n",
        "    target_size=(img_height, img_width),\n",
        "    class_mode=\"categorical\")"
      ],
      "execution_count": 27,
      "outputs": [
        {
          "output_type": "stream",
          "name": "stdout",
          "text": [
            "Found 280 images belonging to 2 classes.\n",
            "Found 80 images belonging to 2 classes.\n",
            "Found 40 images belonging to 2 classes.\n"
          ]
        }
      ]
    },
    {
      "cell_type": "code",
      "source": [
        "import tensorflow as tf\n",
        "\n",
        "def train_generator():\n",
        "    # ... 加载图像数据 ...\n",
        "    train_x=\n",
        "    train_y=\n",
        "    dataset = tf.data.Dataset.from_tensor_slices((train_x, train_y))\n",
        "    dataset = dataset.map(lambda x, y: (tf.image.resize(x, (128, 128)), y))\n",
        "    dataset = dataset.batch(batch_size)\n",
        "    dataset = dataset.prefetch(buffer_size=tf.data.AUTOTUNE)\n",
        "\n",
        "    return dataset"
      ],
      "metadata": {
        "id": "kRUHpOWZd8AT"
      },
      "execution_count": 33,
      "outputs": []
    },
    {
      "cell_type": "code",
      "source": [
        "import tensorflow as tf\n",
        "\n",
        "# 加载图像数据\n",
        "train_dataset = tf.keras.utils.image_dataset_from_directory(\n",
        "    train_data_dir,\n",
        "    labels='inferred',\n",
        "    label_mode='categorical',\n",
        "    image_size=(img_height, img_width),\n",
        "    batch_size=batch_size,\n",
        "    shuffle=True\n",
        ")\n",
        "\n",
        "# 预处理数据\n",
        "def preprocess(image, label):\n",
        "    image = tf.image.convert_image_dtype(image, dtype=tf.float32)\n",
        "    # ... 其他预处理操作 ...\n",
        "    return image, label\n",
        "\n",
        "train_dataset = train_dataset.map(preprocess, num_parallel_calls=tf.data.AUTOTUNE)\n",
        "\n",
        "# 优化性能\n",
        "train_dataset = train_dataset.cache()\n",
        "train_dataset = train_dataset.prefetch(buffer_size=tf.data.AUTOTUNE)\n",
        "\n"
      ],
      "metadata": {
        "id": "RpXL3qZQey1j",
        "outputId": "931fc823-ab4f-4aa6-e445-a1e490daa704",
        "colab": {
          "base_uri": "https://localhost:8080/"
        }
      },
      "execution_count": 30,
      "outputs": [
        {
          "output_type": "stream",
          "name": "stdout",
          "text": [
            "Found 280 files belonging to 2 classes.\n"
          ]
        }
      ]
    },
    {
      "cell_type": "code",
      "metadata": {
        "id": "yv65Hrm7l9_c"
      },
      "source": [
        "# Callbacks\n",
        "checkpoint = ModelCheckpoint(\"f1.keras\", monitor='acc', verbose=1, save_best_only=True,\n",
        "                             save_weights_only=False, mode='auto', save_freq=1)  # 修改文件路径\n",
        "reduce_lr = ReduceLROnPlateau(monitor='loss', factor=0.1, patience=2, verbose=0,\n",
        "                              mode='auto', cooldown=0, min_lr=0)"
      ],
      "execution_count": 21,
      "outputs": []
    },
    {
      "cell_type": "markdown",
      "metadata": {
        "id": "8x_9K8YVmID1"
      },
      "source": [
        "# Training Model"
      ]
    },
    {
      "cell_type": "code",
      "metadata": {
        "id": "e6wjSprimNMU",
        "colab": {
          "base_uri": "https://localhost:8080/",
          "height": 342
        },
        "outputId": "6b73c4c0-30e0-47cd-91b0-92185bcf4c00"
      },
      "source": [
        "batch_size = 32\n",
        "model.fit(\n",
        "    train_generator(),\n",
        "    steps_per_epoch=nb_train_samples // batch_size,\n",
        "    epochs=epochs,\n",
        "    validation_data=validation_generator,\n",
        "    validation_steps=nb_validation_samples // batch_size,\n",
        "    callbacks=[checkpoint, reduce_lr]\n",
        ")"
      ],
      "execution_count": 34,
      "outputs": [
        {
          "output_type": "error",
          "ename": "NameError",
          "evalue": "name 'x' is not defined",
          "traceback": [
            "\u001b[0;31m---------------------------------------------------------------------------\u001b[0m",
            "\u001b[0;31mNameError\u001b[0m                                 Traceback (most recent call last)",
            "\u001b[0;32m<ipython-input-34-4c5cb46e7072>\u001b[0m in \u001b[0;36m<cell line: 2>\u001b[0;34m()\u001b[0m\n\u001b[1;32m      1\u001b[0m \u001b[0mbatch_size\u001b[0m \u001b[0;34m=\u001b[0m \u001b[0;36m32\u001b[0m\u001b[0;34m\u001b[0m\u001b[0;34m\u001b[0m\u001b[0m\n\u001b[1;32m      2\u001b[0m model.fit(\n\u001b[0;32m----> 3\u001b[0;31m     \u001b[0mtrain_generator\u001b[0m\u001b[0;34m(\u001b[0m\u001b[0;34m)\u001b[0m\u001b[0;34m,\u001b[0m\u001b[0;34m\u001b[0m\u001b[0;34m\u001b[0m\u001b[0m\n\u001b[0m\u001b[1;32m      4\u001b[0m     \u001b[0msteps_per_epoch\u001b[0m\u001b[0;34m=\u001b[0m\u001b[0mnb_train_samples\u001b[0m \u001b[0;34m//\u001b[0m \u001b[0mbatch_size\u001b[0m\u001b[0;34m,\u001b[0m\u001b[0;34m\u001b[0m\u001b[0;34m\u001b[0m\u001b[0m\n\u001b[1;32m      5\u001b[0m     \u001b[0mepochs\u001b[0m\u001b[0;34m=\u001b[0m\u001b[0mepochs\u001b[0m\u001b[0;34m,\u001b[0m\u001b[0;34m\u001b[0m\u001b[0;34m\u001b[0m\u001b[0m\n",
            "\u001b[0;32m<ipython-input-33-556e3c02b327>\u001b[0m in \u001b[0;36mtrain_generator\u001b[0;34m()\u001b[0m\n\u001b[1;32m      4\u001b[0m     \u001b[0;31m# ... 加载图像数据 ...\u001b[0m\u001b[0;34m\u001b[0m\u001b[0;34m\u001b[0m\u001b[0m\n\u001b[1;32m      5\u001b[0m \u001b[0;34m\u001b[0m\u001b[0m\n\u001b[0;32m----> 6\u001b[0;31m     \u001b[0mdataset\u001b[0m \u001b[0;34m=\u001b[0m \u001b[0mtf\u001b[0m\u001b[0;34m.\u001b[0m\u001b[0mdata\u001b[0m\u001b[0;34m.\u001b[0m\u001b[0mDataset\u001b[0m\u001b[0;34m.\u001b[0m\u001b[0mfrom_tensor_slices\u001b[0m\u001b[0;34m(\u001b[0m\u001b[0;34m(\u001b[0m\u001b[0mx\u001b[0m\u001b[0;34m,\u001b[0m \u001b[0my\u001b[0m\u001b[0;34m)\u001b[0m\u001b[0;34m)\u001b[0m\u001b[0;34m\u001b[0m\u001b[0;34m\u001b[0m\u001b[0m\n\u001b[0m\u001b[1;32m      7\u001b[0m     \u001b[0mdataset\u001b[0m \u001b[0;34m=\u001b[0m \u001b[0mdataset\u001b[0m\u001b[0;34m.\u001b[0m\u001b[0mmap\u001b[0m\u001b[0;34m(\u001b[0m\u001b[0;32mlambda\u001b[0m \u001b[0mx\u001b[0m\u001b[0;34m,\u001b[0m \u001b[0my\u001b[0m\u001b[0;34m:\u001b[0m \u001b[0;34m(\u001b[0m\u001b[0mtf\u001b[0m\u001b[0;34m.\u001b[0m\u001b[0mimage\u001b[0m\u001b[0;34m.\u001b[0m\u001b[0mresize\u001b[0m\u001b[0;34m(\u001b[0m\u001b[0mx\u001b[0m\u001b[0;34m,\u001b[0m \u001b[0;34m(\u001b[0m\u001b[0;36m128\u001b[0m\u001b[0;34m,\u001b[0m \u001b[0;36m128\u001b[0m\u001b[0;34m)\u001b[0m\u001b[0;34m)\u001b[0m\u001b[0;34m,\u001b[0m \u001b[0my\u001b[0m\u001b[0;34m)\u001b[0m\u001b[0;34m)\u001b[0m\u001b[0;34m\u001b[0m\u001b[0;34m\u001b[0m\u001b[0m\n\u001b[1;32m      8\u001b[0m     \u001b[0mdataset\u001b[0m \u001b[0;34m=\u001b[0m \u001b[0mdataset\u001b[0m\u001b[0;34m.\u001b[0m\u001b[0mbatch\u001b[0m\u001b[0;34m(\u001b[0m\u001b[0mbatch_size\u001b[0m\u001b[0;34m)\u001b[0m\u001b[0;34m\u001b[0m\u001b[0;34m\u001b[0m\u001b[0m\n",
            "\u001b[0;31mNameError\u001b[0m: name 'x' is not defined"
          ]
        }
      ]
    },
    {
      "cell_type": "markdown",
      "metadata": {
        "id": "J3pSrVt4oPw5"
      },
      "source": [
        "# Prediction on Test Data"
      ]
    },
    {
      "cell_type": "code",
      "metadata": {
        "id": "D3EVlKWhoS2m"
      },
      "source": [
        "# Callbacks\n",
        "checkpoint = ModelCheckpoint(\"f1.h5\", monitor='acc', verbose=1, save_best_only=True, save_weights_only=False, mode='auto', period=1)\n",
        "reduce_lr = ReduceLROnPlateau(monitor='loss', factor=0.1, patience=2, verbose=0, mode='auto', cooldown=0, min_lr=0)"
      ],
      "execution_count": null,
      "outputs": []
    },
    {
      "cell_type": "code",
      "metadata": {
        "id": "G1O3GM5noZG0",
        "colab": {
          "base_uri": "https://localhost:8080/",
          "height": 34
        },
        "outputId": "e69bdb98-c567-4a06-83bc-6427f2bf02ed"
      },
      "source": [
        "batch_size = 10\n",
        "pred = model.predict_generator(test_generator,\n",
        "                               steps=get_steps(n_test_samples, batch_size),\n",
        "                               callbacks=[checkpoint, reduce_lr],\n",
        "                               verbose=1)"
      ],
      "execution_count": null,
      "outputs": [
        {
          "output_type": "stream",
          "text": [
            "4/4 [==============================] - 2s 408ms/step\n"
          ],
          "name": "stdout"
        }
      ]
    },
    {
      "cell_type": "code",
      "metadata": {
        "id": "knnWG6DAohQR",
        "colab": {
          "base_uri": "https://localhost:8080/",
          "height": 1000
        },
        "outputId": "23a01c5f-5862-454b-e91f-11d7037608ea"
      },
      "source": [
        "pred"
      ],
      "execution_count": null,
      "outputs": [
        {
          "output_type": "execute_result",
          "data": {
            "text/plain": [
              "array([[0.66776055, 0.33223945],\n",
              "       [0.39407468, 0.6059253 ],\n",
              "       [0.31803977, 0.6819602 ],\n",
              "       [0.816509  , 0.183491  ],\n",
              "       [0.66935116, 0.3306488 ],\n",
              "       [0.49172097, 0.508279  ],\n",
              "       [0.5092242 , 0.49077582],\n",
              "       [0.2921776 , 0.70782244],\n",
              "       [0.43954197, 0.56045806],\n",
              "       [0.74468166, 0.2553184 ],\n",
              "       [0.85571307, 0.14428699],\n",
              "       [0.5027314 , 0.4972686 ],\n",
              "       [0.02267935, 0.9773207 ],\n",
              "       [0.79438525, 0.20561472],\n",
              "       [0.05778668, 0.9422133 ],\n",
              "       [0.04669693, 0.95330304],\n",
              "       [0.5223356 , 0.47766447],\n",
              "       [0.5796036 , 0.42039636],\n",
              "       [0.7943506 , 0.20564936],\n",
              "       [0.37829894, 0.6217011 ],\n",
              "       [0.47306046, 0.5269396 ],\n",
              "       [0.46297646, 0.5370236 ],\n",
              "       [0.4420952 , 0.55790484],\n",
              "       [0.7734003 , 0.22659972],\n",
              "       [0.02141242, 0.97858757],\n",
              "       [0.44251254, 0.5574875 ],\n",
              "       [0.93071204, 0.06928799],\n",
              "       [0.04541377, 0.95458627],\n",
              "       [0.11802074, 0.8819793 ],\n",
              "       [0.66649526, 0.33350477],\n",
              "       [0.27289146, 0.7271086 ],\n",
              "       [0.2238025 , 0.77619743],\n",
              "       [0.4303799 , 0.56962013],\n",
              "       [0.7971196 , 0.2028804 ],\n",
              "       [0.07328009, 0.92671996],\n",
              "       [0.68595076, 0.3140492 ],\n",
              "       [0.66007024, 0.3399298 ],\n",
              "       [0.4405055 , 0.5594945 ],\n",
              "       [0.76036346, 0.23963659],\n",
              "       [0.38417894, 0.61582106],\n",
              "       [0.7335434 , 0.2664566 ],\n",
              "       [0.0567649 , 0.94323516],\n",
              "       [0.29018897, 0.70981103],\n",
              "       [0.81568766, 0.18431228],\n",
              "       [0.68595064, 0.31404942],\n",
              "       [0.79711956, 0.20288043],\n",
              "       [0.3696688 , 0.63033116],\n",
              "       [0.38417843, 0.61582154],\n",
              "       [0.5540041 , 0.44599596],\n",
              "       [0.08542068, 0.9145793 ],\n",
              "       [0.6484944 , 0.35150558],\n",
              "       [0.13985848, 0.8601416 ],\n",
              "       [0.2608718 , 0.7391282 ],\n",
              "       [0.26963928, 0.7303607 ],\n",
              "       [0.02408296, 0.97591704],\n",
              "       [0.79438525, 0.20561472],\n",
              "       [0.49172097, 0.508279  ],\n",
              "       [0.3733957 , 0.6266043 ],\n",
              "       [0.05465395, 0.9453461 ],\n",
              "       [0.67301214, 0.32698786],\n",
              "       [0.5472141 , 0.45278594],\n",
              "       [0.1433827 , 0.8566173 ],\n",
              "       [0.29871556, 0.7012844 ],\n",
              "       [0.07328001, 0.92671996],\n",
              "       [0.4322774 , 0.5677226 ],\n",
              "       [0.7603633 , 0.23963672],\n",
              "       [0.4377863 , 0.56221366],\n",
              "       [0.384207  , 0.615793  ],\n",
              "       [0.816509  , 0.183491  ],\n",
              "       [0.43954197, 0.56045806],\n",
              "       [0.93071204, 0.06928799],\n",
              "       [0.23852932, 0.7614707 ],\n",
              "       [0.67726403, 0.32273597],\n",
              "       [0.02514786, 0.9748522 ],\n",
              "       [0.72219926, 0.2778007 ],\n",
              "       [0.47306085, 0.52693915],\n",
              "       [0.5796038 , 0.42039618],\n",
              "       [0.66367626, 0.3363237 ],\n",
              "       [0.76062506, 0.23937492],\n",
              "       [0.28693843, 0.71306163]], dtype=float32)"
            ]
          },
          "metadata": {
            "tags": []
          },
          "execution_count": 31
        }
      ]
    },
    {
      "cell_type": "code",
      "metadata": {
        "id": "3zHpR9jaop3L",
        "colab": {
          "base_uri": "https://localhost:8080/",
          "height": 54
        },
        "outputId": "5bbceb6a-0751-45fa-9ffc-3c95aaa193db"
      },
      "source": [
        "threshold = 0.6\n",
        "result = []\n",
        "for x, y in pred:\n",
        "  if x >= 0.6:\n",
        "    result.append(0)\n",
        "  else:\n",
        "    result.append(1)\n",
        "\n",
        "print(result)"
      ],
      "execution_count": null,
      "outputs": [
        {
          "output_type": "stream",
          "text": [
            "[0, 1, 1, 0, 0, 1, 1, 1, 1, 0, 0, 1, 1, 0, 1, 1, 1, 1, 0, 1, 1, 1, 1, 0, 1, 1, 0, 1, 1, 0, 1, 1, 1, 0, 1, 0, 0, 1, 0, 1, 0, 1, 1, 0, 0, 0, 1, 1, 1, 1, 0, 1, 1, 1, 1, 0, 1, 1, 1, 0, 1, 1, 1, 1, 1, 0, 1, 1, 0, 1, 0, 1, 0, 1, 0, 1, 1, 0, 0, 1]\n"
          ],
          "name": "stdout"
        }
      ]
    },
    {
      "cell_type": "code",
      "metadata": {
        "id": "f8ZQB0i2tvzO",
        "colab": {
          "base_uri": "https://localhost:8080/",
          "height": 34
        },
        "outputId": "b9452c5e-0651-4304-a5b0-1794a4faa1e8"
      },
      "source": [
        "print(result.count(1))"
      ],
      "execution_count": null,
      "outputs": [
        {
          "output_type": "stream",
          "text": [
            "52\n"
          ],
          "name": "stdout"
        }
      ]
    },
    {
      "cell_type": "code",
      "metadata": {
        "id": "G8I3eOydt4St",
        "colab": {
          "base_uri": "https://localhost:8080/",
          "height": 34
        },
        "outputId": "e7378f59-1c4b-422f-94b8-3503c76286ad"
      },
      "source": [
        "print(result.count(0))"
      ],
      "execution_count": null,
      "outputs": [
        {
          "output_type": "stream",
          "text": [
            "28\n"
          ],
          "name": "stdout"
        }
      ]
    },
    {
      "cell_type": "code",
      "metadata": {
        "id": "RBY8SybZt-NT",
        "colab": {
          "base_uri": "https://localhost:8080/",
          "height": 34
        },
        "outputId": "94c9fb8a-f043-4f7a-adff-46f72b652f78"
      },
      "source": [
        "print(len(result))"
      ],
      "execution_count": null,
      "outputs": [
        {
          "output_type": "stream",
          "text": [
            "80\n"
          ],
          "name": "stdout"
        }
      ]
    }
  ]
}